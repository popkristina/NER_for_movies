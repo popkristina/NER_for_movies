{
 "cells": [
  {
   "cell_type": "code",
   "execution_count": 12,
   "metadata": {},
   "outputs": [],
   "source": [
    "# Imports\n",
    "import pandas as pd\n",
    "import os\n",
    "import string"
   ]
  },
  {
   "cell_type": "code",
   "execution_count": 2,
   "metadata": {},
   "outputs": [],
   "source": [
    "# Define path\n",
    "os.chdir('D:/TU_Graz/Thesis/Datasets/MIT_movie_corpus')\n",
    "\n",
    "# Read data\n",
    "train = pd.read_csv(\"mit_movie_train.tsv\", sep='\\t')\n",
    "train.columns = ['bio_tag', 'Words']\n",
    "test = pd.read_csv(\"mit_movie_test.tsv\", sep='\\t')\n",
    "test.columns = ['bio_tag', 'Words']"
   ]
  },
  {
   "cell_type": "code",
   "execution_count": 3,
   "metadata": {},
   "outputs": [],
   "source": [
    "def sentence_indicators(dataframe):\n",
    "    sentence_indicators = []\n",
    "    index_word = 0\n",
    "    index_sentence = 0\n",
    "    for word in dataframe['bio_tag']:\n",
    "        if word == 'NEW_SENT':\n",
    "            sentence_indicators.append(\"NEW_SENT\")\n",
    "            index_sentence += 1\n",
    "        else:\n",
    "            sentence_indicators.append(\"Sentence \" + str(index_sentence))\n",
    "        index_word += 1\n",
    "            \n",
    "    dataframe['Sentence'] = pd.Series(sentence_indicators)\n",
    "    dataframe = dataframe[dataframe.bio_tag != 'NEW_SENT']\n",
    "    dataframe = dataframe.reindex(columns = ['Sentence', 'Words', 'bio_tag'])\n",
    "    return dataframe"
   ]
  },
  {
   "cell_type": "code",
   "execution_count": 4,
   "metadata": {},
   "outputs": [],
   "source": [
    "train = sentence_indicators(train)\n",
    "test = sentence_indicators(test)"
   ]
  },
  {
   "cell_type": "markdown",
   "metadata": {},
   "source": [
    "We check all the words identified as genres with the IMDB genres list. Since we are only interested in IMDB genres, the ones that are not in the list we discard"
   ]
  },
  {
   "cell_type": "code",
   "execution_count": 33,
   "metadata": {},
   "outputs": [],
   "source": [
    "imdb_genres = pd.read_csv(\"../IMDB_database/genres.csv\", sep=';')\n",
    "imdb_genres = list(set(imdb_genres['genrename']))\n",
    "imdb_genres = [g.lower() for g in imdb_genres]\n",
    "imdb_genres.extend(['scifi', 'science-fiction', 'science fiction', 'sci fi', 'film noir', 'noir', 'noir film'])"
   ]
  },
  {
   "cell_type": "code",
   "execution_count": 41,
   "metadata": {},
   "outputs": [],
   "source": [
    "def filter_genres(dataset, genres):\n",
    "    for index, row in dataset.iterrows():\n",
    "        if row['bio_tag'] in [\"B-GENRE\", \"I-GENRE\"]:\n",
    "            if str(row['Words']).lower() not in genres:\n",
    "                #Replace row['bio_tag'] with 'O'\n",
    "                #row['bio_tag'] = 'O'\n",
    "                dataset.loc[index]['bio_tag'] = 'O'\n",
    "    return dataset"
   ]
  },
  {
   "cell_type": "code",
   "execution_count": 42,
   "metadata": {},
   "outputs": [],
   "source": [
    "data = filter_genres(train, imdb_genres)"
   ]
  },
  {
   "cell_type": "code",
   "execution_count": 44,
   "metadata": {},
   "outputs": [],
   "source": [
    "def filter_tags(dataset):\n",
    "    tag_list = [\"B-GENRE\", \"I-GENRE\", \"B-ACTOR\", \"I-ACTOR\", \"B-MOVIE\", \"I-MOVIE\", \"B-KEYWORD\", \"I-KEYWORD\", \"O\"]\n",
    "    for index, row in dataset.iterrows():\n",
    "        if row[\"\"]"
   ]
  },
  {
   "cell_type": "code",
   "execution_count": null,
   "metadata": {},
   "outputs": [],
   "source": [
    "train.to_csv(\"../MIT_movie_corpus_preprocessed/mit_train.csv\", index = False)\n",
    "test.to_csv(\"../MIT_movie_corpus_preprocessed/mit_test.csv\", index = False)"
   ]
  },
  {
   "cell_type": "code",
   "execution_count": null,
   "metadata": {},
   "outputs": [],
   "source": []
  }
 ],
 "metadata": {
  "kernelspec": {
   "display_name": "Python 3",
   "language": "python",
   "name": "python3"
  },
  "language_info": {
   "codemirror_mode": {
    "name": "ipython",
    "version": 3
   },
   "file_extension": ".py",
   "mimetype": "text/x-python",
   "name": "python",
   "nbconvert_exporter": "python",
   "pygments_lexer": "ipython3",
   "version": "3.8.3"
  }
 },
 "nbformat": 4,
 "nbformat_minor": 4
}
