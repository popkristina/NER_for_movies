{
 "cells": [
  {
   "cell_type": "code",
   "execution_count": 1,
   "metadata": {},
   "outputs": [],
   "source": [
    "# Imports\n",
    "import os\n",
    "import pandas as pd\n",
    "import numpy as np\n",
    "import nltk\n",
    "import string\n",
    "\n",
    "# Define path\n",
    "os.chdir('D:/TU_Graz/Thesis/Datasets/Reddit_original')\n",
    "\n",
    "# Read datasets\n",
    "movie_titles = pd.read_csv(\"movie_titles.csv\", sep = ';')\n",
    "comments = pd.read_csv(\"comments.csv\", sep = ';')\n",
    "comments_new = pd.DataFrame()"
   ]
  },
  {
   "cell_type": "code",
   "execution_count": 2,
   "metadata": {},
   "outputs": [
    {
     "data": {
      "text/html": [
       "<div>\n",
       "<style scoped>\n",
       "    .dataframe tbody tr th:only-of-type {\n",
       "        vertical-align: middle;\n",
       "    }\n",
       "\n",
       "    .dataframe tbody tr th {\n",
       "        vertical-align: top;\n",
       "    }\n",
       "\n",
       "    .dataframe thead th {\n",
       "        text-align: right;\n",
       "    }\n",
       "</style>\n",
       "<table border=\"1\" class=\"dataframe\">\n",
       "  <thead>\n",
       "    <tr style=\"text-align: right;\">\n",
       "      <th></th>\n",
       "      <th>reddit_submission_id</th>\n",
       "      <th>reddit_comment_id</th>\n",
       "      <th>reddit_comment_text</th>\n",
       "      <th>movie_ids</th>\n",
       "    </tr>\n",
       "  </thead>\n",
       "  <tbody>\n",
       "    <tr>\n",
       "      <th>0</th>\n",
       "      <td>10gvsh</td>\n",
       "      <td>c6dh9hw</td>\n",
       "      <td>[The Man Who Wasn't There](http://www.imdb.com...</td>\n",
       "      <td>tt0243133</td>\n",
       "    </tr>\n",
       "    <tr>\n",
       "      <th>1</th>\n",
       "      <td>10gvsh</td>\n",
       "      <td>c6dhzjn</td>\n",
       "      <td>Here are a few neo-noir films you might like:&lt;...</td>\n",
       "      <td>tt0166924|tt0235737|tt0243133|tt0399146|tt0780...</td>\n",
       "    </tr>\n",
       "    <tr>\n",
       "      <th>2</th>\n",
       "      <td>10gvsh</td>\n",
       "      <td>c6dn5oc</td>\n",
       "      <td>Seen them all but The Salton Sea and The man w...</td>\n",
       "      <td>tt0235737|tt0243133</td>\n",
       "    </tr>\n",
       "    <tr>\n",
       "      <th>3</th>\n",
       "      <td>10gvsh</td>\n",
       "      <td>c6dti4q</td>\n",
       "      <td>It's not a movie, but Veronica Mars.</td>\n",
       "      <td>tt2771372</td>\n",
       "    </tr>\n",
       "    <tr>\n",
       "      <th>4</th>\n",
       "      <td>10gvsh</td>\n",
       "      <td>c6ey576</td>\n",
       "      <td>Kiss Kiss Bang Bang</td>\n",
       "      <td>tt0373469</td>\n",
       "    </tr>\n",
       "  </tbody>\n",
       "</table>\n",
       "</div>"
      ],
      "text/plain": [
       "  reddit_submission_id reddit_comment_id  \\\n",
       "0               10gvsh           c6dh9hw   \n",
       "1               10gvsh           c6dhzjn   \n",
       "2               10gvsh           c6dn5oc   \n",
       "3               10gvsh           c6dti4q   \n",
       "4               10gvsh           c6ey576   \n",
       "\n",
       "                                 reddit_comment_text  \\\n",
       "0  [The Man Who Wasn't There](http://www.imdb.com...   \n",
       "1  Here are a few neo-noir films you might like:<...   \n",
       "2  Seen them all but The Salton Sea and The man w...   \n",
       "3               It's not a movie, but Veronica Mars.   \n",
       "4                                Kiss Kiss Bang Bang   \n",
       "\n",
       "                                           movie_ids  \n",
       "0                                          tt0243133  \n",
       "1  tt0166924|tt0235737|tt0243133|tt0399146|tt0780...  \n",
       "2                                tt0235737|tt0243133  \n",
       "3                                          tt2771372  \n",
       "4                                          tt0373469  "
      ]
     },
     "execution_count": 2,
     "metadata": {},
     "output_type": "execute_result"
    }
   ],
   "source": [
    "comments.head()"
   ]
  },
  {
   "cell_type": "code",
   "execution_count": 3,
   "metadata": {},
   "outputs": [],
   "source": [
    "comments = comments.fillna(\"\")"
   ]
  },
  {
   "cell_type": "code",
   "execution_count": 4,
   "metadata": {},
   "outputs": [],
   "source": [
    "movies=[]\n",
    "for line in comments['movie_ids']:\n",
    "    parts = line.split('|')\n",
    "    movies_sub = \"\"\n",
    "    for index, row in movie_titles.iterrows():\n",
    "        if row['movie_id'] in parts:\n",
    "            movies_sub = movies_sub + \"|\" + row['movie_title']\n",
    "    movies.append(movies_sub[1:])"
   ]
  },
  {
   "cell_type": "code",
   "execution_count": 5,
   "metadata": {},
   "outputs": [],
   "source": [
    "comments_new['text'] = comments['reddit_comment_text']\n",
    "comments_new['movies'] = pd.Series(movies)"
   ]
  },
  {
   "cell_type": "code",
   "execution_count": null,
   "metadata": {},
   "outputs": [],
   "source": []
  }
 ],
 "metadata": {
  "kernelspec": {
   "display_name": "Python 3",
   "language": "python",
   "name": "python3"
  },
  "language_info": {
   "codemirror_mode": {
    "name": "ipython",
    "version": 3
   },
   "file_extension": ".py",
   "mimetype": "text/x-python",
   "name": "python",
   "nbconvert_exporter": "python",
   "pygments_lexer": "ipython3",
   "version": "3.8.3"
  }
 },
 "nbformat": 4,
 "nbformat_minor": 2
}
