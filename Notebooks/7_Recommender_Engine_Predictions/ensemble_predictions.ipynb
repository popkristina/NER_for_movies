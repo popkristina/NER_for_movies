{
 "cells": [
  {
   "cell_type": "markdown",
   "metadata": {},
   "source": [
    "Open all predictions from all models, and combine into one file such that only best entities from every model are considered."
   ]
  },
  {
   "cell_type": "code",
   "execution_count": null,
   "metadata": {},
   "outputs": [],
   "source": [
    "all_models = dict()\n",
    "\n",
    "with open(\"bert_large_cased_best_matched_format_1_TRAIN.json\") as json_file:\n",
    "    bert_large_2 = json.load(json_file)\n",
    "    \n",
    "with open(\"bert_multilingual_base_cased_best_matched_format_1_TRAIN.json\") as json_file:\n",
    "    bert_multilingual = json.load(json_file)\n",
    "    \n",
    "with open(\"roberta_large_best_matched_format_1_TRAIN.json\") as json_file:\n",
    "    roberta = json.load(json_file)\n",
    "    \n",
    "with open(\"elmo_best_matched_format_1_TRAIN.json\") as json_file:\n",
    "    elmo = json.load(json_file)"
   ]
  }
 ],
 "metadata": {
  "kernelspec": {
   "display_name": "Python 3",
   "language": "python",
   "name": "python3"
  },
  "language_info": {
   "codemirror_mode": {
    "name": "ipython",
    "version": 3
   },
   "file_extension": ".py",
   "mimetype": "text/x-python",
   "name": "python",
   "nbconvert_exporter": "python",
   "pygments_lexer": "ipython3",
   "version": "3.8.3"
  }
 },
 "nbformat": 4,
 "nbformat_minor": 4
}
