{
 "cells": [
  {
   "cell_type": "code",
   "execution_count": 58,
   "metadata": {},
   "outputs": [],
   "source": [
    "# Imports\n",
    "import pandas as pd\n",
    "import os\n",
    "import string"
   ]
  },
  {
   "cell_type": "code",
   "execution_count": 71,
   "metadata": {},
   "outputs": [],
   "source": [
    "# Define path\n",
    "os.chdir('D:/TU_Graz/Thesis/Datasets/MIT_movie_corpus')\n",
    "\n",
    "# Read data\n",
    "train = pd.read_csv(\"mit_movie_train.tsv\", sep='\\t')\n",
    "train.columns = ['bio_tag', 'Words']\n",
    "test = pd.read_csv(\"mit_movie_test.tsv\", sep='\\t')\n",
    "test.columns = ['bio_tag', 'Words']"
   ]
  },
  {
   "cell_type": "code",
   "execution_count": 72,
   "metadata": {},
   "outputs": [],
   "source": [
    "def sentence_indicators(dataframe):\n",
    "    sentence_indicators = []\n",
    "    index_word = 0\n",
    "    index_sentence = 0\n",
    "    for word in dataframe['bio_tag']:\n",
    "        if word == 'NEW_SENT':\n",
    "            sentence_indicators.append(\"NEW_SENT\")\n",
    "            index_sentence += 1\n",
    "        else:\n",
    "            sentence_indicators.append(\"Sentence \" + str(index_sentence))\n",
    "        index_word += 1\n",
    "            \n",
    "    dataframe['Sentence'] = pd.Series(sentence_indicators)\n",
    "    dataframe = dataframe[dataframe.bio_tag != 'NEW_SENT']\n",
    "    dataframe = dataframe.reindex(columns = ['Sentence', 'Words', 'bio_tag'])\n",
    "    return dataframe"
   ]
  },
  {
   "cell_type": "code",
   "execution_count": 73,
   "metadata": {},
   "outputs": [],
   "source": [
    "train = sentence_indicators(train)\n",
    "test = sentence_indicators(test)"
   ]
  },
  {
   "cell_type": "markdown",
   "metadata": {},
   "source": [
    "We check all the words identified as genres with the IMDB genres list. Since we are only interested in IMDB genres, the ones that are not in the list we discard"
   ]
  },
  {
   "cell_type": "code",
   "execution_count": 74,
   "metadata": {},
   "outputs": [],
   "source": [
    "imdb_genres = pd.read_csv(\"../IMDB_database/genres.csv\", sep=';')\n",
    "imdb_genres = list(set(imdb_genres['genrename']))\n",
    "imdb_genres = [g.lower() for g in imdb_genres]\n",
    "imdb_genres.extend(['scifi', 'science-fiction', 'science fiction', 'sci fi', 'film noir', 'noir', 'noir film'])"
   ]
  },
  {
   "cell_type": "code",
   "execution_count": 75,
   "metadata": {},
   "outputs": [],
   "source": [
    "def filter_genres(dataset, genres):\n",
    "    for index, row in dataset.iterrows():\n",
    "        if row['bio_tag'] in [\"B-GENRE\", \"I-GENRE\"]:\n",
    "            if str(row['Words']).lower() not in genres:\n",
    "                #Replace row['bio_tag'] with 'O'\n",
    "                #row['bio_tag'] = 'O'\n",
    "                dataset.loc[index]['bio_tag'] = 'O'\n",
    "    return dataset"
   ]
  },
  {
   "cell_type": "code",
   "execution_count": 76,
   "metadata": {},
   "outputs": [],
   "source": [
    "def filter_tags(dataset):\n",
    "    tag_list = [\"B-GENRE\", \"I-GENRE\", \"B-ACTOR\", \"I-ACTOR\", \"B-MOVIE\", \"I-MOVIE\", \"B-KEYWORD\", \"I-KEYWORD\", \"O\"]\n",
    "    for index, row in dataset.iterrows():\n",
    "        if row['bio_tag'] == \"B-TITLE\":\n",
    "            dataset.loc[index]['bio_tag'] = \"B-MOVIE\"\n",
    "        elif row['bio_tag'] == \"I-TITLE\":\n",
    "            dataset.loc[index]['bio_tag'] = \"I-MOVIE\"\n",
    "        elif row['bio_tag'] == \"B-DIRECTOR\":\n",
    "            dataset.loc[index]['bio_tag'] = \"B-ACTOR\"\n",
    "        elif row['bio_tag'] == \"I-DIRECTOR\":\n",
    "            dataset.loc[index]['bio_tag'] = \"I-ACTOR\"\n",
    "        elif row['bio_tag'] in [\"B-PLOT\", \"B-CHARACTER\", \"B-YEAR\"]:\n",
    "            dataset.loc[index]['bio_tag'] = 'B-KEYWORD'\n",
    "        elif row['bio_tag'] in [\"I-PLOT\", \"I-CHARACTER\", \"I-YEAR\"]:\n",
    "            dataset.loc[index]['bio_tag'] = \"I-KEYWORD\"\n",
    "        elif row['bio_tag'] not in tag_list:\n",
    "            dataset.loc[index]['bio_tag'] = \"O\"\n",
    "    return dataset"
   ]
  },
  {
   "cell_type": "code",
   "execution_count": 77,
   "metadata": {},
   "outputs": [],
   "source": [
    "data_train = filter_tags(filter_genres(train, imdb_genres))\n",
    "data_test = filter_tags(filter_genres(test, imdb_genres))"
   ]
  },
  {
   "cell_type": "code",
   "execution_count": 66,
   "metadata": {},
   "outputs": [],
   "source": [
    "from nltk import pos_tag\n",
    "from nltk import RegexpParser\n",
    "from nltk.chunk import conlltags2tree, tree2conlltags"
   ]
  },
  {
   "cell_type": "code",
   "execution_count": 67,
   "metadata": {},
   "outputs": [],
   "source": [
    "def add_tags(data):\n",
    "    tags = pos_tag(data.Words)\n",
    "    tags_final = [t[1] for t in tags]\n",
    "    pattern = 'NP: {<DT>?<JJ>*<NN>}'\n",
    "    chunker = RegexpParser(pattern)\n",
    "    chunks = chunker.parse(tags)\n",
    "    tagged_chunks = tree2conlltags(chunks)\n",
    "    chunks_final = [t[2] for t in tagged_chunks]\n",
    "    \n",
    "    return tags_final, chunks_final"
   ]
  },
  {
   "cell_type": "code",
   "execution_count": 68,
   "metadata": {},
   "outputs": [],
   "source": [
    "pos_train, chunk_train = add_tags(data_train)\n",
    "pos_test, chunk_test = add_tags(data_test)"
   ]
  },
  {
   "cell_type": "code",
   "execution_count": 69,
   "metadata": {},
   "outputs": [],
   "source": [
    "data_train['POS_tag'] = pd.Series(pos_train)\n",
    "data_train['Chunk_tag'] = pd.Series(chunk_train)\n",
    "data_test['POS_tag'] = pd.Series(pos_test)\n",
    "data_test['Chunk_tag'] = pd.Series(chunk_test)"
   ]
  },
  {
   "cell_type": "code",
   "execution_count": 79,
   "metadata": {},
   "outputs": [],
   "source": [
    "data_train.to_csv(\"../MIT_movie_corpus_preprocessed/mit_train.csv\", index = False)\n",
    "data_test.to_csv(\"../MIT_movie_corpus_preprocessed/mit_test.csv\", index = False)"
   ]
  },
  {
   "cell_type": "code",
   "execution_count": null,
   "metadata": {},
   "outputs": [],
   "source": []
  }
 ],
 "metadata": {
  "kernelspec": {
   "display_name": "Python 3",
   "language": "python",
   "name": "python3"
  },
  "language_info": {
   "codemirror_mode": {
    "name": "ipython",
    "version": 3
   },
   "file_extension": ".py",
   "mimetype": "text/x-python",
   "name": "python",
   "nbconvert_exporter": "python",
   "pygments_lexer": "ipython3",
   "version": "3.8.3"
  }
 },
 "nbformat": 4,
 "nbformat_minor": 4
}
