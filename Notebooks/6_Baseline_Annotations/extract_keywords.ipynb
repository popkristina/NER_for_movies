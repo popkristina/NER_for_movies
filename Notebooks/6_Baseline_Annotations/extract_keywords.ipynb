{
 "cells": [
  {
   "cell_type": "code",
   "execution_count": 1,
   "metadata": {},
   "outputs": [
    {
     "name": "stderr",
     "output_type": "stream",
     "text": [
      "C:\\Users\\Kiki\\anaconda3\\lib\\site-packages\\pandas\\core\\computation\\expressions.py:21: UserWarning: Pandas requires version '2.7.3' or newer of 'numexpr' (version '2.7.1' currently installed).\n",
      "  from pandas.core.computation.check import NUMEXPR_INSTALLED\n"
     ]
    }
   ],
   "source": [
    "import pandas as pd\n",
    "import spacy\n",
    "import nltk\n",
    "import json\n",
    "from rake_nltk import Rake\n",
    "import os\n",
    "import re\n",
    "import pytextrank"
   ]
  },
  {
   "cell_type": "markdown",
   "metadata": {},
   "source": [
    "## 1. RAKE"
   ]
  },
  {
   "cell_type": "code",
   "execution_count": 2,
   "metadata": {},
   "outputs": [],
   "source": [
    "def rake(sentences):\n",
    "    keyphrases = dict()\n",
    "    r = Rake()\n",
    "    for index, row in sentences.iterrows():\n",
    "        r.extract_keywords_from_text(row['text'])\n",
    "        if row['id'] not in keyphrases.keys():\n",
    "            keyphrases[row['id']] = list()\n",
    "        keyphrases[row['id']].append(r.get_ranked_phrases())\n",
    "    return keyphrases"
   ]
  },
  {
   "cell_type": "code",
   "execution_count": 3,
   "metadata": {},
   "outputs": [],
   "source": [
    "os.chdir('D:/TU_Graz/Thesis/Datasets/Reddit_preprocessed')\n",
    "submissions = pd.read_csv(\"train_submissions_simplified.csv\")\n",
    "\n",
    "# Remove punctuations\n",
    "subs = submissions[['id', 'text']]\n",
    "for i in range(0, len(subs['text'])):\n",
    "    tmp = subs.iloc[i]['text']\n",
    "    subs.iloc[i]['text'] = re.sub(r'[^\\w\\s]', '', tmp)\n",
    "    tmp = subs.iloc[i]['text'] \n",
    "    subs.iloc[i]['text'] = re.sub('NEW_LINE', '', tmp)\n",
    "    tmp = subs.iloc[i]['text'] \n",
    "    subs.iloc[i]['text'] = re.sub('new_line', '', tmp)"
   ]
  },
  {
   "cell_type": "code",
   "execution_count": 4,
   "metadata": {},
   "outputs": [],
   "source": [
    "keyphrases = rake(subs)\n",
    "with open(\"D:/TU_Graz/Thesis/Datasets/rake_keywords_format_1_TRAIN.json\", \"w\") as outfile:\n",
    "    json.dump(keyphrases, outfile)"
   ]
  },
  {
   "cell_type": "markdown",
   "metadata": {},
   "source": [
    "## 2. TextRank"
   ]
  },
  {
   "cell_type": "code",
   "execution_count": 5,
   "metadata": {},
   "outputs": [],
   "source": [
    "nlp = spacy.load(\"en_core_web_sm\")\n",
    "nlp.add_pipe(\"textrank\")\n",
    "\n",
    "def textrank_f(sentences):\n",
    "    keyphrases = dict()\n",
    "    for index, row in sentences.iterrows():\n",
    "        doc = nlp(row['text'])\n",
    "        #if row['id'] not in keyphrases.keys():\n",
    "        #    keyphrases[row['id']] = list()\n",
    "        phrases = [phrase.text for phrase in doc._.phrases]\n",
    "        keyphrases[row['id']] = phrases\n",
    "    return keyphrases"
   ]
  },
  {
   "cell_type": "code",
   "execution_count": 6,
   "metadata": {
    "scrolled": true
   },
   "outputs": [],
   "source": [
    "keyphrases = textrank_f(subs)"
   ]
  },
  {
   "cell_type": "code",
   "execution_count": 7,
   "metadata": {},
   "outputs": [],
   "source": [
    "with open(\"D:/TU_Graz/Thesis/Datasets/textrank_keywords_format_1_TRAIN.json\", \"w\") as outfile:\n",
    "    json.dump(keyphrases, outfile)"
   ]
  },
  {
   "cell_type": "code",
   "execution_count": null,
   "metadata": {},
   "outputs": [],
   "source": []
  }
 ],
 "metadata": {
  "kernelspec": {
   "display_name": "Python 3",
   "language": "python",
   "name": "python3"
  },
  "language_info": {
   "codemirror_mode": {
    "name": "ipython",
    "version": 3
   },
   "file_extension": ".py",
   "mimetype": "text/x-python",
   "name": "python",
   "nbconvert_exporter": "python",
   "pygments_lexer": "ipython3",
   "version": "3.8.3"
  }
 },
 "nbformat": 4,
 "nbformat_minor": 4
}
