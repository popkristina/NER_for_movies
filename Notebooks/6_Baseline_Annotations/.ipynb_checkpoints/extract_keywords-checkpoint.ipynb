{
 "cells": [
  {
   "cell_type": "code",
   "execution_count": 9,
   "metadata": {},
   "outputs": [],
   "source": [
    "import pandas as pd\n",
    "import spacy\n",
    "import nltk\n",
    "import json\n",
    "from rake_nltk import Rake\n",
    "import os\n",
    "import re"
   ]
  },
  {
   "cell_type": "markdown",
   "metadata": {},
   "source": [
    "## 1. RAKE"
   ]
  },
  {
   "cell_type": "code",
   "execution_count": 2,
   "metadata": {},
   "outputs": [],
   "source": [
    "def rake(sentences):\n",
    "    keyphrases = dict()\n",
    "    r = Rake()\n",
    "    for index, row in sentences.iterrows():\n",
    "        r.extract_keywords_from_text(row['text'])\n",
    "        if row['id'] not in keyphrases.keys():\n",
    "            keyphrases[row['id']] = list()\n",
    "        keyphrases[row['id']].append(r.get_ranked_phrases())\n",
    "    return keyphrases"
   ]
  },
  {
   "cell_type": "code",
   "execution_count": 25,
   "metadata": {},
   "outputs": [],
   "source": [
    "os.chdir('D:/TU_Graz/Thesis/Datasets/Reddit_preprocessed')\n",
    "submissions = pd.read_csv(\"test_submissions_simplified.csv\")\n",
    "\n",
    "# Remove punctuations\n",
    "subs = submissions[['id', 'text']]\n",
    "for i in range(0, len(subs['text'])):\n",
    "    tmp = subs.iloc[i]['text']\n",
    "    subs.iloc[i]['text'] = re.sub(r'[^\\w\\s]', '', tmp)\n",
    "    tmp = subs.iloc[i]['text'] \n",
    "    subs.iloc[i]['text'] = re.sub('NEW_LINE', '', tmp)\n",
    "    tmp = subs.iloc[i]['text'] \n",
    "    subs.iloc[i]['text'] = re.sub('new_line', '', tmp)"
   ]
  },
  {
   "cell_type": "code",
   "execution_count": 26,
   "metadata": {},
   "outputs": [],
   "source": [
    "keyphrases = rake(submissions)\n",
    "with open(\"D:/TU_Graz/Thesis/Datasets/rake_keywords_format_1.json\", \"w\") as outfile:\n",
    "    json.dump(keyphrases, outfile)"
   ]
  },
  {
   "cell_type": "code",
   "execution_count": null,
   "metadata": {},
   "outputs": [],
   "source": []
  }
 ],
 "metadata": {
  "kernelspec": {
   "display_name": "Python 3",
   "language": "python",
   "name": "python3"
  },
  "language_info": {
   "codemirror_mode": {
    "name": "ipython",
    "version": 3
   },
   "file_extension": ".py",
   "mimetype": "text/x-python",
   "name": "python",
   "nbconvert_exporter": "python",
   "pygments_lexer": "ipython3",
   "version": "3.8.3"
  }
 },
 "nbformat": 4,
 "nbformat_minor": 4
}
