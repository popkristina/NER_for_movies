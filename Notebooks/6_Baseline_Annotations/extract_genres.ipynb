{
 "cells": [
  {
   "cell_type": "code",
   "execution_count": null,
   "metadata": {},
   "outputs": [
    {
     "name": "stderr",
     "output_type": "stream",
     "text": [
      "C:\\Users\\Kiki\\anaconda3\\lib\\site-packages\\pandas\\core\\computation\\expressions.py:21: UserWarning: Pandas requires version '2.7.3' or newer of 'numexpr' (version '2.7.1' currently installed).\n",
      "  from pandas.core.computation.check import NUMEXPR_INSTALLED\n"
     ]
    }
   ],
   "source": [
    "import pandas as pd\n",
    "import spacy\n",
    "import nltk\n",
    "import json\n",
    "import os"
   ]
  },
  {
   "cell_type": "code",
   "execution_count": null,
   "metadata": {},
   "outputs": [],
   "source": [
    "submissions = pd.read_csv(\"D:/TU_Graz/Thesis/Datasets/Reddit_preprocessed/train_submissions_simplified.csv\")\n",
    "imdb_genres = pd.read_csv(\"D:/TU_Graz/Thesis/Datasets/IMDB_database/genres.csv\", sep=';') \n",
    "genres = [gen.lower() for gen in imdb_genres['genrename']]"
   ]
  },
  {
   "cell_type": "code",
   "execution_count": null,
   "metadata": {},
   "outputs": [],
   "source": [
    "genre_predictions = dict()\n",
    "\n",
    "for index, row in submissions.iterrows():\n",
    "    genre_predictions[row['id']] = dict()\n",
    "    genre_predictions[row['id']]['positive_genres'] = list()\n",
    "    words = row['text'].split(\" \")\n",
    "    for word in words:\n",
    "        if word.lower() in genres:\n",
    "            genre_predictions[row['id']]['positive_genres'].append(word)"
   ]
  },
  {
   "cell_type": "code",
   "execution_count": 20,
   "metadata": {},
   "outputs": [],
   "source": [
    "with open(\"D:/TU_Graz/Thesis/Datasets/matching_genres_format_1.json\", \"w\") as outfile:\n",
    "    json.dump(genre_predictions, outfile)"
   ]
  },
  {
   "cell_type": "code",
   "execution_count": null,
   "metadata": {},
   "outputs": [],
   "source": []
  }
 ],
 "metadata": {
  "kernelspec": {
   "display_name": "Python 3",
   "language": "python",
   "name": "python3"
  },
  "language_info": {
   "codemirror_mode": {
    "name": "ipython",
    "version": 3
   },
   "file_extension": ".py",
   "mimetype": "text/x-python",
   "name": "python",
   "nbconvert_exporter": "python",
   "pygments_lexer": "ipython3",
   "version": "3.8.3"
  }
 },
 "nbformat": 4,
 "nbformat_minor": 4
}
