{
 "cells": [
  {
   "cell_type": "code",
   "execution_count": 1,
   "metadata": {},
   "outputs": [],
   "source": [
    "# Imports\n",
    "import os\n",
    "import sys\n",
    "import pandas as pd\n",
    "import textstat\n",
    "import matplotlib.pyplot as plt\n",
    "import numpy as np\n",
    "import nltk\n",
    "import seaborn as sns\n",
    "from collections import Counter"
   ]
  },
  {
   "cell_type": "code",
   "execution_count": 2,
   "metadata": {},
   "outputs": [],
   "source": [
    "def load_data():\n",
    "    # Define path\n",
    "    #os.chdir('../../data')\n",
    "    \n",
    "    # Read datasets\n",
    "    submissions = pd.read_csv(\"submissions.csv\", sep = ';')\n",
    "    movie_titles = pd.read_csv(\"movie_titles.csv\", sep = ';')\n",
    "    comments = pd.read_csv(\"comments.csv\", sep = ';')\n",
    "    submissions = submissions.fillna(\"\")\n",
    "    \n",
    "    return submissions, movie_titles, comments"
   ]
  },
  {
   "cell_type": "code",
   "execution_count": 3,
   "metadata": {},
   "outputs": [],
   "source": [
    "def movie_title_sep(movie_titles):\n",
    "    \"\"\"\n",
    "    The movie_titles dataset contains the movies with their release years in a same string, \n",
    "    we might need them apart\n",
    "    \"\"\"\n",
    "    movie_titles['title'] = movie_titles['movie_title'].str[:-6]\n",
    "    movie_titles['year'] = movie_titles['movie_title'].str[-5:-1]\n",
    "    \n",
    "    return movie_titles"
   ]
  },
  {
   "cell_type": "markdown",
   "metadata": {},
   "source": [
    " # Explore submission texts and titles"
   ]
  },
  {
   "cell_type": "raw",
   "metadata": {},
   "source": [
    "The Flesch Reading Ease score            \n",
    "\n",
    "Score \tDifficulty \n",
    "90-100 \tVery Easy\n",
    "80-89 \tEasy\n",
    "70-79 \tFairly Easy\n",
    "60-69 \tStandard\n",
    "50-59 \tFairly Difficult\n",
    "30-49 \tDifficult\n",
    "0-29 \tVery Confusing\n",
    "\n",
    "Automated Readability Index: Returns the ARI (Automated Readability Index) which outputs a number that approximates the grade level needed to comprehend the text. For example if the ARI is 6.5, then the grade level to comprehend the text is 6th to 7th grade."
   ]
  },
  {
   "cell_type": "code",
   "execution_count": 4,
   "metadata": {},
   "outputs": [],
   "source": [
    "def text_stats_and_readability_scores(text):\n",
    "    # Check the readability of the submissions\n",
    "    # More readability scores availble at: https://pypi.org/project/textstat/\n",
    "    \n",
    "    textstat.set_lang('en')\n",
    "    syllable_count = textstat.syllable_count(text)\n",
    "    number_of_words = textstat.lexicon_count(text, removepunct=True)\n",
    "    number_of_sentences = textstat.sentence_count(text)\n",
    "    \n",
    "    flesch_score = textstat.flesch_reading_ease(text)\n",
    "    flesch_kincaid = textstat.flesch_kincaid_grade(text)\n",
    "    automated_readability_index = textstat.automated_readability_index(text)\n",
    "    \n",
    "    return number_of_words, number_of_sentences, flesch_score, flesch_kincaid, automated_readability_index"
   ]
  },
  {
   "cell_type": "code",
   "execution_count": 5,
   "metadata": {},
   "outputs": [],
   "source": [
    "def text_stats_readabilities(submissions):\n",
    "    \n",
    "    all_stats = pd.DataFrame()\n",
    "\n",
    "    for index, row in submissions.iterrows():\n",
    "        number_of_words, number_of_sentences, flesch_score, flesch_kincaid, automated_readability_index = text_stats_and_readability_scores(row['reddit_submission_title'] + row['reddit_submission_text'])  \n",
    "        all_stats = all_stats.append([[row['reddit_submission_id'], number_of_words, number_of_sentences, flesch_score, flesch_kincaid, automated_readability_index]])\n",
    "        \n",
    "    all_stats.columns = [\"ID\", \"# Words\", \"# Sentences\", \"Flesch score\", \"Flesch-Kincaid\", \"Automated Rdb. Index\"]\n",
    "    \n",
    "    print(\"Average number of words: \", np.mean(all_stats[\"# Words\"]))\n",
    "    print(\"Average number of sentences: \", np.mean(all_stats[\"# Sentences\"]))\n",
    "    print(\"Average Flesch Reading Ease score: \", np.mean(all_stats[\"Flesch score\"]))\n",
    "    print(\"Average Flesch-Kincaid score: \", np.mean(all_stats[\"Flesch-Kincaid\"]))\n",
    "    print(\"Average Automated readability index: \", np.mean(all_stats[\"Automated Rdb. Index\"]))\n",
    "    \n",
    "    return all_stats"
   ]
  },
  {
   "cell_type": "code",
   "execution_count": 6,
   "metadata": {},
   "outputs": [],
   "source": [
    "def plot_histogram(data, title, x):\n",
    "    #plt.figure()\n",
    "    #sns.set(style=\"darkgrid\")\n",
    "    #fig, axs = plt.subplots(2, figsize=(8,8))\n",
    "    #fig.tight_layout(h_pad=4)\n",
    "    #axs[0,].hist(stats[\"# Sentences\"])\n",
    "    #axs[0,].set_title('Sentences per submission')\n",
    "    #axs[0,].set(xlabel='Number of sentences', ylabel='Count')\n",
    "    #axs[1,].hist(stats[\"# Words\"])\n",
    "    #axs[1,].set_title('Words per submission')\n",
    "    #axs[1,].set(xlabel='Number of words', ylabel='Count')\n",
    "\n",
    "    #fig.suptitle('Distribution of submissions length in terms of sentences and words', fontsize=14)\n",
    "    #plt.subplots_adjust(top=0.9)\n",
    "    \n",
    "    sns.set(style=\"darkgrid\")\n",
    "    plt.hist(data, bins=60)\n",
    "    plt.title(title)\n",
    "    plt.xlabel(x)\n",
    "    plt.ylabel('Frequency')"
   ]
  },
  {
   "cell_type": "code",
   "execution_count": 7,
   "metadata": {
    "scrolled": true
   },
   "outputs": [],
   "source": [
    "def plot_histogram_4(entities_cnt, title):\n",
    "    sns.set(style=\"darkgrid\")\n",
    "    \n",
    "    fig, axs = plt.subplots(2, 2, figsize=(10,8))\n",
    "    fig.tight_layout(h_pad=4)\n",
    "    axs[0, 0].hist([entities_cnt['# pos keywords'], entities_cnt['# neg keywords']], bins=6, label=['positive keywords', 'negative keywords'])\n",
    "    axs[0, 0].set_title('Keywords')\n",
    "    axs[0, 0].set(xlabel='Mentions per submission', ylabel='Count of occurences')\n",
    "    axs[0, 0].legend()\n",
    "    \n",
    "    axs[0, 1].hist([entities_cnt['# pos genres'], entities_cnt['# neg_genres']], bins=7, label=['positive genres', 'negative genres'])\n",
    "    axs[0, 1].set_title('Genres')\n",
    "    axs[0, 1].set(xlabel='Mentions per submission')\n",
    "    axs[0, 1].legend()\n",
    "    \n",
    "    axs[1, 0].hist([entities_cnt['# pos actors'], entities_cnt['# neg actors']], bins=6, label=['positive actors', 'negative actors'])\n",
    "    axs[1, 0].set_title('Actors')\n",
    "    axs[1, 0].set(xlabel='Mentions per submission', ylabel='Count of occurences')\n",
    "    axs[1, 0].legend()\n",
    "    \n",
    "    axs[1, 1].hist([entities_cnt['# pos movies'], entities_cnt['# neg movies']], bins=4, label=['positive movies', 'negative movies'])\n",
    "    axs[1, 1].set_title('Movies')\n",
    "    axs[1, 1].set(xlabel='Mentions per submission')\n",
    "    axs[1, 1].legend()\n",
    "    \n",
    "    fig.suptitle('Entity mention frequency in submissions', fontsize=14)\n",
    "    plt.subplots_adjust(top=0.9)"
   ]
  },
  {
   "cell_type": "code",
   "execution_count": 8,
   "metadata": {},
   "outputs": [],
   "source": [
    "#Plot a histogram of the movie title lengths in words so that we can know in what range we expect our movie names\n",
    "def plot_movie_titles(movie_titles):\n",
    "    title_lengths = []\n",
    "    for line in movie_titles:\n",
    "        splits = line.split(' ')\n",
    "        splits = splits[:-1]\n",
    "        title_lengths.append(len(splits))\n",
    "    plt.figure()\n",
    "    plt.title('Length of movie titles')\n",
    "    plt.hist(title_lengths)\n",
    "    plt.show()\n",
    "    plt.savefig('movie_titles_length.png')"
   ]
  },
  {
   "cell_type": "code",
   "execution_count": 9,
   "metadata": {},
   "outputs": [],
   "source": [
    "def plot_submissions_length(submissions):\n",
    "    lengths = []\n",
    "    for submission in submissions:\n",
    "        splits = submission.split(' ')\n",
    "        splits = splits[:-1]\n",
    "        lengths.append(len(splits))\n",
    "    plt.figure()\n",
    "    plt.title('Length of submissions')\n",
    "    plt.hist(lengths)\n",
    "    plt.show()\n",
    "    plt.savefig('submissions_length.png')"
   ]
  },
  {
   "cell_type": "code",
   "execution_count": 10,
   "metadata": {},
   "outputs": [],
   "source": [
    "def count_entities(submissions):\n",
    "    entities_stat = pd.DataFrame()\n",
    "    for index, row in submissions.iterrows():\n",
    "        pos_actors_mention = 0\n",
    "        neg_actors_mention = 0\n",
    "        pos_genres_mention = 0\n",
    "        neg_genres_mention = 0\n",
    "        pos_movies_mention = 0\n",
    "        neg_movies_mention = 0\n",
    "        pos_keywords_mention = 0\n",
    "        neg_keywords_mention = 0\n",
    "        if(len(row['positive_actors']) < 1):\n",
    "            pos_actors_mention = 0\n",
    "        else:\n",
    "            splits_actor_pos = row['positive_actors'].split(\"|\")\n",
    "            pos_actors_mention = len(splits_actor_pos)\n",
    "        if(len(row['negative_actors']) < 1):\n",
    "            neg_actors_mention = 0\n",
    "        else:\n",
    "            splits_actor_neg = row['negative_actors'].split(\"|\")\n",
    "            neg_actors_mention = len(splits_actor_neg)\n",
    "        \n",
    "        if(len(row['positive_genres']) < 1):\n",
    "            pos_genres_mention = 0\n",
    "        else:\n",
    "            splits_genre_pos = row['positive_genres'].split(\"|\")\n",
    "            pos_genres_mention = len(splits_genre_pos)\n",
    "        if(len(row['negative_genres']) < 1):\n",
    "            neg_genres_mention = 0\n",
    "        else:\n",
    "            splits_genre_neg = row['negative_genres'].split(\"|\")\n",
    "            neg_genres_mention = len(splits_genre_neg)\n",
    "        \n",
    "        splits_movie_pos = row['positive_movie_ids'].split(\"|\")\n",
    "        pos_movies_mention = len(splits_movie_pos)\n",
    "        splits_movie_neg = row['negative_movie_ids'].split(\"|\")\n",
    "        neg_movies_mention = len(splits_movie_neg)\n",
    "        \n",
    "        splits_keywords_pos = row['positive_keywords'].split(\"|\")\n",
    "        pos_keywords_mention = len(splits_keywords_pos)\n",
    "        splits_keywords_neg = row['negative_keywords'].split(\"|\")\n",
    "        neg_keywords_mention = len(splits_keywords_neg)\n",
    "        \n",
    "        entities_stat = entities_stat.append([[row['reddit_submission_id'], pos_actors_mention, neg_actors_mention, \n",
    "                                               pos_actors_mention + neg_actors_mention, pos_genres_mention, \n",
    "                                               neg_genres_mention, pos_genres_mention + neg_genres_mention, \n",
    "                                               pos_movies_mention, neg_movies_mention, pos_movies_mention + neg_movies_mention, \n",
    "                                               pos_keywords_mention, neg_keywords_mention, pos_keywords_mention + neg_keywords_mention]])\n",
    "        \n",
    "    entities_stat.columns = [\"ID\", \"# pos actors\", \"# neg actors\", \"# actors\", \"# pos genres\", \"# neg_genres\", \"# genres\",\n",
    "                            \"# pos movies\", \"# neg movies\", \"# movies\", \"# pos keywords\", \"# neg keywords\", \"# keywords\"]\n",
    "    \n",
    "    print(\"Average number of movies per submission: \", np.mean(entities_stat[\"# movies\"]))\n",
    "    print(\"Average number of actors per submission: \", np.mean(entities_stat[\"# actors\"]))\n",
    "    print(\"Average number of genres per submission: \", np.mean(entities_stat[\"# genres\"]))\n",
    "    print(\"Average number of keywords per submission: \", np.mean(entities_stat[\"# keywords\"]))\n",
    "    \n",
    "    return entities_stat"
   ]
  },
  {
   "cell_type": "code",
   "execution_count": 12,
   "metadata": {},
   "outputs": [
    {
     "name": "stdout",
     "output_type": "stream",
     "text": [
      "Average number of words:  58.913513513513514\n",
      "Average number of sentences:  4.017567567567568\n",
      "Average Flesch Reading Ease score:  71.54447297297305\n",
      "Average Flesch-Kincaid score:  7.191351351351353\n",
      "Average Automated readability index:  12.694391891891888\n"
     ]
    },
    {
     "data": {
      "image/png": "[encoded data removed]",
      "text/plain": [
       "<Figure size 432x288 with 1 Axes>"
      ]
     },
     "metadata": {
      "needs_background": "light"
     },
     "output_type": "display_data"
    },
    {
     "name": "stdout",
     "output_type": "stream",
     "text": [
      "Average number of movies per submission:  4.67972972972973\n",
      "Average number of actors per submission:  0.06959459459459459\n",
      "Average number of genres per submission:  0.47297297297297297\n",
      "Average number of keywords per submission:  4.125\n"
     ]
    },
    {
     "data": {
      "text/plain": [
       "<Figure size 432x288 with 0 Axes>"
      ]
     },
     "metadata": {},
     "output_type": "display_data"
    },
    {
     "data": {
      "image/png": "[encoded data removed]",
      "text/plain": [
       "<Figure size 720x576 with 4 Axes>"
      ]
     },
     "metadata": {},
     "output_type": "display_data"
    }
   ],
   "source": [
    "os.chdir('../../data')\n",
    "\n",
    "# Load datasets\n",
    "submissions, movie_titles, comments = load_data()\n",
    "\n",
    "# Preview submission\n",
    "submissions.head()\n",
    "\n",
    "# Add separate columns for the title of the movie and the year\n",
    "movie_titles = movie_title_sep(movie_titles)\n",
    "\n",
    "# Preview movie titles\n",
    "movie_titles.head()\n",
    "\n",
    "# Perform readability statistics over the submissions\n",
    "stats = text_stats_readabilities(submissions)\n",
    "\n",
    "# Save readability stats\n",
    "stats.to_csv(\"readability_statistics_submissions.csv\", index = False)\n",
    "\n",
    "#plot_histogram(stats[\"Flesch score\"], 'Flesch score', 'Readability score')\n",
    "#plot_histogram(stats[\"Flesch-Kincaid\"], 'Flesch-Kincaid score', 'Readability score')\n",
    "#plot_histogram(stats[\"Automated Rdb. Index\"], 'Automated Readability Index', 'Readability index')\n",
    "#plot_histogram(stats[\"# Sentences\"], 'Number of sentences per submission', 'Num. of sentences')\n",
    "\n",
    "plot_movie_titles(movie_titles['title'])\n",
    "\n",
    "# Calculate entity-mention statistics per submission\n",
    "entities_cnt = count_entities(submissions)\n",
    "\n",
    "# Save entity stats\n",
    "entities_cnt.to_csv(\"entities_cnt.csv\", index = False)\n",
    "plot_histogram_4(entities_cnt, \"Entity mention frequency in submissions\")"
   ]
  },
  {
   "cell_type": "code",
   "execution_count": null,
   "metadata": {},
   "outputs": [],
   "source": []
  }
 ],
 "metadata": {
  "kernelspec": {
   "display_name": "Python 3",
   "language": "python",
   "name": "python3"
  },
  "language_info": {
   "codemirror_mode": {
    "name": "ipython",
    "version": 3
   },
   "file_extension": ".py",
   "mimetype": "text/x-python",
   "name": "python",
   "nbconvert_exporter": "python",
   "pygments_lexer": "ipython3",
   "version": "3.8.3"
  }
 },
 "nbformat": 4,
 "nbformat_minor": 4
}
