{
 "cells": [
  {
   "cell_type": "code",
   "execution_count": 1,
   "metadata": {},
   "outputs": [],
   "source": [
    "# Imports\n",
    "\n",
    "import pandas as pd                                         \n",
    "import os                                       \n",
    "from sklearn.feature_selection import SelectFromModel        \n",
    "from sklearn.pipeline import Pipeline                      \n",
    "from sklearn.model_selection import StratifiedKFold, GridSearchCV, cross_val_predict, train_test_split\n",
    "from sklearn.linear_model import LogisticRegression               \n",
    "from sklearn.svm import SVC                       \n",
    "from sklearn.metrics import classification_report\n",
    "from sklearn.ensemble import RandomForestClassifier\n",
    "from sklearn.tree import DecisionTreeClassifier\n",
    "from sklearn.naive_bayes import BernoulliNB\n",
    "from sklearn.tree import ExtraTreeClassifier"
   ]
  },
  {
   "cell_type": "markdown",
   "metadata": {},
   "source": [
    "Simplest possible implementation of NER"
   ]
  },
  {
   "cell_type": "code",
   "execution_count": 2,
   "metadata": {},
   "outputs": [],
   "source": [
    "def read_data(input_path):\n",
    "    train = pd.read_csv(input_path + \"train_final_all.csv\")\n",
    "    test = pd.read_csv(input_path + \"test_final_all.csv\")\n",
    "    return train, test"
   ]
  },
  {
   "cell_type": "markdown",
   "metadata": {},
   "source": [
    "Prepare data"
   ]
  },
  {
   "cell_type": "code",
   "execution_count": 3,
   "metadata": {},
   "outputs": [],
   "source": [
    "def data_prep(train, test, category):\n",
    "    X_train = pd.concat([train[\"Token_index\"], train.iloc[:,4:149]], axis = 1)\n",
    "    y_train = train[category].values.tolist()\n",
    "\n",
    "    X_test = pd.concat([test[\"Token_index\"], test.iloc[:,4:149]], axis = 1)\n",
    "    y_test = test[category].values.tolist()\n",
    "    \n",
    "    #X_train, X_test, y_train, y_test = train_test_split(X, y, random_state = 1000, test_size=0.3)\n",
    "\n",
    "    return X_train, y_train, X_test, y_test"
   ]
  },
  {
   "cell_type": "code",
   "execution_count": 4,
   "metadata": {},
   "outputs": [],
   "source": [
    "def train_model(clf, X_train, y_train):\n",
    "    param_grid = [{}]\n",
    "    grid_search = GridSearchCV(clf, param_grid,cv = StratifiedKFold(n_splits=3).\n",
    "                               split(X_train, y_train), verbose=2)\n",
    "    model = grid_search.fit(X_train, y_train)\n",
    "    return model"
   ]
  },
  {
   "cell_type": "code",
   "execution_count": 5,
   "metadata": {},
   "outputs": [],
   "source": [
    "def test_model(model, X_test, y_test):\n",
    "    y_predictions = model.predict(X_test)\n",
    "    report = classification_report(y_test, y_predictions)\n",
    "    return report"
   ]
  },
  {
   "cell_type": "code",
   "execution_count": 17,
   "metadata": {
    "scrolled": true
   },
   "outputs": [
    {
     "name": "stdout",
     "output_type": "stream",
     "text": [
      "Fitting 3 folds for each of 1 candidates, totalling 3 fits\n",
      "[CV]  ................................................................\n"
     ]
    },
    {
     "name": "stderr",
     "output_type": "stream",
     "text": [
      "[Parallel(n_jobs=1)]: Using backend SequentialBackend with 1 concurrent workers.\n"
     ]
    },
    {
     "name": "stdout",
     "output_type": "stream",
     "text": [
      "[CV] ................................................. , total= 6.6min\n",
      "[CV]  ................................................................\n"
     ]
    },
    {
     "name": "stderr",
     "output_type": "stream",
     "text": [
      "[Parallel(n_jobs=1)]: Done   1 out of   1 | elapsed:  6.6min remaining:    0.0s\n"
     ]
    },
    {
     "name": "stdout",
     "output_type": "stream",
     "text": [
      "[CV] ................................................. , total= 6.0min\n",
      "[CV]  ................................................................\n",
      "[CV] ................................................. , total= 5.9min\n"
     ]
    },
    {
     "name": "stderr",
     "output_type": "stream",
     "text": [
      "[Parallel(n_jobs=1)]: Done   3 out of   3 | elapsed: 18.5min finished\n"
     ]
    },
    {
     "name": "stdout",
     "output_type": "stream",
     "text": [
      "              precision    recall  f1-score   support\n",
      "\n",
      "     B-movie       0.86      0.74      0.79      1287\n",
      "     I-movie       0.85      0.70      0.76      1649\n",
      "           O       0.97      0.99      0.98     22932\n",
      "\n",
      "    accuracy                           0.96     25868\n",
      "   macro avg       0.89      0.81      0.84     25868\n",
      "weighted avg       0.95      0.96      0.96     25868\n",
      "\n"
     ]
    }
   ],
   "source": [
    "input_path = 'D:/TU_Graz/Thesis/Datasets/Reddit_features/'\n",
    "train, test = read_data(input_path) # Read data\n",
    "clf_column = 'bio_movie' # Chose column to classify over\n",
    "X_train, y_train, X_test, y_test = data_prep(train, test, clf_column) # Split the data to feats and target values (X and y) \n",
    "\n",
    "\"\"\"\n",
    "Define the classifier. One of:\n",
    "\n",
    "1. Naive Bayes\n",
    "2. Support Vector Machines\n",
    "3. Logistic Regression\n",
    "4. Extra Tree\n",
    "5. Decision Tree\n",
    "6. Random Forest\n",
    "\n",
    "\"\"\"\n",
    "#clf = BernoulliNB()\n",
    "#clf = SVC()\n",
    "#clf = LogisticRegression(class_weight = 'balanced', penalty='l2', C=2, max_iter=10000)\n",
    "#clf = ExtraTreeClassifier()\n",
    "#clf = DecisionTreeClassifier(random_state=0)\n",
    "clf = RandomForestClassifier(n_estimators=500, min_samples_split = 3)\n",
    "#clf = CRF(algorithm='lbfgs', max_iterations=1000, all_possible_transitions=False)\n",
    "#from sklearn.ensemble import AdaBoostClassifier\n",
    "#clf = AdaBoostClassifier(n_estimators=100)\n",
    "\n",
    "model = train_model(clf, X_train, y_train) # Train the model\n",
    "report = test_model(model, X_test, y_test) # Test the model\n",
    "print(report)"
   ]
  },
  {
   "cell_type": "code",
   "execution_count": null,
   "metadata": {},
   "outputs": [],
   "source": []
  }
 ],
 "metadata": {
  "kernelspec": {
   "display_name": "Python 3",
   "language": "python",
   "name": "python3"
  },
  "language_info": {
   "codemirror_mode": {
    "name": "ipython",
    "version": 3
   },
   "file_extension": ".py",
   "mimetype": "text/x-python",
   "name": "python",
   "nbconvert_exporter": "python",
   "pygments_lexer": "ipython3",
   "version": "3.8.3"
  }
 },
 "nbformat": 4,
 "nbformat_minor": 4
}
