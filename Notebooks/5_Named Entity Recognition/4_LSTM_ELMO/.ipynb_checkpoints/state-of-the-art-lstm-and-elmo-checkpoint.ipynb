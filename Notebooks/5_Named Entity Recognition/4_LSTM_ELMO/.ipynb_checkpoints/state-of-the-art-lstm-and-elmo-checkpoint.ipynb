{
 "cells": [
  {
   "cell_type": "code",
   "execution_count": 1,
   "metadata": {
    "_cell_guid": "b1076dfc-b9ad-4769-8c92-a6c4dae69d19",
    "_uuid": "8f2839f25d086af736a60e9eeb907d3b93b6e0e5",
    "execution": {
     "iopub.execute_input": "2021-10-02T10:14:40.456469Z",
     "iopub.status.busy": "2021-10-02T10:14:40.456106Z",
     "iopub.status.idle": "2021-10-02T10:14:51.450523Z",
     "shell.execute_reply": "2021-10-02T10:14:51.449640Z",
     "shell.execute_reply.started": "2021-10-02T10:14:40.456394Z"
    }
   },
   "outputs": [],
   "source": [
    "import pandas as pd\n",
    "import numpy as np\n",
    "import os\n",
    "import matplotlib.pyplot as plt\n",
    "from keras.preprocessing.sequence import pad_sequences\n",
    "from tensorflow.keras.utils import to_categorical\n",
    "from sklearn.model_selection import train_test_split\n",
    "import matplotlib.pyplot as plt\n",
    "plt.style.use(\"ggplot\")\n",
    "\n",
    "#os.chdir('D:/TU_Graz/Thesis/Datasets/Reddit_features')\n",
    "\n",
    "train = pd.read_csv(\"../input/bio-tagged/train_final_all.csv\")\n",
    "test = pd.read_csv(\"../input/bio-tagged/test_final_all.csv\")\n",
    "data = train.append(test)\n",
    "#data = data[[\"Sentence\", \"Token\", \"POS_tag\", \"BIO\"]]"
   ]
  },
  {
   "cell_type": "markdown",
   "metadata": {},
   "source": [
    "https://www.depends-on-the-definition.com/named-entity-recognition-with-residual-lstm-and-elmo/"
   ]
  },
  {
   "cell_type": "code",
   "execution_count": 2,
   "metadata": {
    "execution": {
     "iopub.execute_input": "2021-10-02T10:14:54.749059Z",
     "iopub.status.busy": "2021-10-02T10:14:54.748741Z",
     "iopub.status.idle": "2021-10-02T10:14:54.775247Z",
     "shell.execute_reply": "2021-10-02T10:14:54.774282Z",
     "shell.execute_reply.started": "2021-10-02T10:14:54.749030Z"
    }
   },
   "outputs": [],
   "source": [
    "words = list(set(data[\"Token\"].values))\n",
    "words.append(\"ENDPAD\")\n",
    "n_words = len(words); n_words\n",
    "tags = list(set(data[\"BIO\"].values))\n",
    "n_tags = len(tags); n_tags"
   ]
  },
  {
   "cell_type": "code",
   "execution_count": 3,
   "metadata": {
    "execution": {
     "iopub.execute_input": "2021-10-02T10:14:55.505335Z",
     "iopub.status.busy": "2021-10-02T10:14:55.504990Z",
     "iopub.status.idle": "2021-10-02T10:14:55.511797Z",
     "shell.execute_reply": "2021-10-02T10:14:55.510777Z",
     "shell.execute_reply.started": "2021-10-02T10:14:55.505306Z"
    }
   },
   "outputs": [],
   "source": [
    "class SentenceGetter(object):\n",
    "    \n",
    "    def __init__(self, data):\n",
    "        self.n_sent = 1\n",
    "        self.data = data\n",
    "        self.empty = False\n",
    "        agg_func = lambda s: [(w, p, t) for w, p, t in zip(s[\"Token\"].values.tolist(),\n",
    "                                                           s[\"POS_tag\"].values.tolist(),\n",
    "                                                           s[\"BIO\"].values.tolist())]\n",
    "        self.grouped = self.data.groupby(\"Sent_id\").apply(agg_func)\n",
    "        self.sentences = [s for s in self.grouped]\n",
    "    \n",
    "    def get_next(self):\n",
    "        try:\n",
    "            s = self.grouped\n",
    "            self.n_sent += 1\n",
    "            return s\n",
    "        except:\n",
    "            return None"
   ]
  },
  {
   "cell_type": "code",
   "execution_count": 4,
   "metadata": {
    "execution": {
     "iopub.execute_input": "2021-10-02T10:14:56.993467Z",
     "iopub.status.busy": "2021-10-02T10:14:56.993097Z",
     "iopub.status.idle": "2021-10-02T10:14:57.458961Z",
     "shell.execute_reply": "2021-10-02T10:14:57.458125Z",
     "shell.execute_reply.started": "2021-10-02T10:14:56.993436Z"
    }
   },
   "outputs": [],
   "source": [
    "getter = SentenceGetter(data)\n",
    "sents = getter.sentences\n",
    "\n",
    "sentences = list()\n",
    "for s in sents:\n",
    "    if len(s) < 200:\n",
    "        sentences.append(s)\n",
    "        \n",
    "max_len = 200\n",
    "tag2idx = {t: i for i, t in enumerate(tags)}\n",
    "\n",
    "X = [[w[0] for w in s] for s in sentences]"
   ]
  },
  {
   "cell_type": "code",
   "execution_count": 5,
   "metadata": {
    "execution": {
     "iopub.execute_input": "2021-10-02T10:14:57.460745Z",
     "iopub.status.busy": "2021-10-02T10:14:57.460412Z",
     "iopub.status.idle": "2021-10-02T10:14:57.705928Z",
     "shell.execute_reply": "2021-10-02T10:14:57.705108Z",
     "shell.execute_reply.started": "2021-10-02T10:14:57.460710Z"
    }
   },
   "outputs": [],
   "source": [
    "new_X = []\n",
    "for seq in X:\n",
    "    new_seq = []\n",
    "    for i in range(max_len):\n",
    "        try:\n",
    "            new_seq.append(seq[i])\n",
    "        except:\n",
    "            new_seq.append(\"__PAD__\")\n",
    "    new_X.append(new_seq)\n",
    "X = new_X"
   ]
  },
  {
   "cell_type": "code",
   "execution_count": 6,
   "metadata": {
    "execution": {
     "iopub.execute_input": "2021-10-02T10:15:09.046701Z",
     "iopub.status.busy": "2021-10-02T10:15:09.046379Z",
     "iopub.status.idle": "2021-10-02T10:15:09.097122Z",
     "shell.execute_reply": "2021-10-02T10:15:09.096282Z",
     "shell.execute_reply.started": "2021-10-02T10:15:09.046672Z"
    }
   },
   "outputs": [],
   "source": [
    "y = [[tag2idx[w[2]] for w in s] for s in sentences]\n",
    "y = pad_sequences(maxlen=max_len, sequences=y, padding=\"post\", value=tag2idx[\"O\"])\n",
    "X_tr, X_te, y_tr, y_te = train_test_split(X, y, test_size=0.3, random_state=2018)\n",
    "\n",
    "batch_size = 24"
   ]
  },
  {
   "cell_type": "code",
   "execution_count": 7,
   "metadata": {
    "execution": {
     "iopub.execute_input": "2021-10-02T10:15:10.849286Z",
     "iopub.status.busy": "2021-10-02T10:15:10.848941Z",
     "iopub.status.idle": "2021-10-02T10:15:11.065241Z",
     "shell.execute_reply": "2021-10-02T10:15:11.064293Z",
     "shell.execute_reply.started": "2021-10-02T10:15:10.849256Z"
    }
   },
   "outputs": [],
   "source": [
    "import tensorflow as tf\n",
    "import tensorflow.compat.v1 as tf\n",
    "import tensorflow_hub as hub\n",
    "#from keras import backend as K\n",
    "tf.compat.v1.disable_eager_execution()\n",
    "from tensorflow.compat.v1.keras import backend as K"
   ]
  },
  {
   "cell_type": "code",
   "execution_count": 8,
   "metadata": {
    "execution": {
     "iopub.execute_input": "2021-10-02T10:15:12.105029Z",
     "iopub.status.busy": "2021-10-02T10:15:12.104717Z",
     "iopub.status.idle": "2021-10-02T10:15:13.682486Z",
     "shell.execute_reply": "2021-10-02T10:15:13.681617Z",
     "shell.execute_reply.started": "2021-10-02T10:15:12.104999Z"
    }
   },
   "outputs": [],
   "source": [
    "sess = tf.compat.v1.Session()\n",
    "K.set_session(sess)"
   ]
  },
  {
   "cell_type": "code",
   "execution_count": 9,
   "metadata": {
    "execution": {
     "iopub.execute_input": "2021-10-02T10:15:14.721360Z",
     "iopub.status.busy": "2021-10-02T10:15:14.721025Z",
     "iopub.status.idle": "2021-10-02T10:15:21.842904Z",
     "shell.execute_reply": "2021-10-02T10:15:21.842057Z",
     "shell.execute_reply.started": "2021-10-02T10:15:14.721329Z"
    }
   },
   "outputs": [],
   "source": [
    "elmo_model = hub.Module(\"https://tfhub.dev/google/elmo/3\", trainable=True)\n",
    "sess.run(tf.global_variables_initializer())\n",
    "sess.run(tf.tables_initializer())"
   ]
  },
  {
   "cell_type": "code",
   "execution_count": 10,
   "metadata": {
    "execution": {
     "iopub.execute_input": "2021-10-02T10:15:21.844594Z",
     "iopub.status.busy": "2021-10-02T10:15:21.844265Z",
     "iopub.status.idle": "2021-10-02T10:15:21.850178Z",
     "shell.execute_reply": "2021-10-02T10:15:21.848516Z",
     "shell.execute_reply.started": "2021-10-02T10:15:21.844559Z"
    }
   },
   "outputs": [],
   "source": [
    "from keras.models import Model, Input\n",
    "from keras.layers.merge import add\n",
    "from keras.layers import LSTM, Embedding, Dense, TimeDistributed, Dropout, Bidirectional, Lambda"
   ]
  },
  {
   "cell_type": "code",
   "execution_count": 11,
   "metadata": {
    "execution": {
     "iopub.execute_input": "2021-10-02T10:15:23.649862Z",
     "iopub.status.busy": "2021-10-02T10:15:23.649504Z",
     "iopub.status.idle": "2021-10-02T10:15:23.655686Z",
     "shell.execute_reply": "2021-10-02T10:15:23.654236Z",
     "shell.execute_reply.started": "2021-10-02T10:15:23.649831Z"
    }
   },
   "outputs": [],
   "source": [
    "def ElmoEmbedding(x):\n",
    "    return elmo_model(inputs={\n",
    "                            \"tokens\": tf.squeeze(tf.cast(x, tf.string)),\n",
    "                            \"sequence_len\": tf.constant(batch_size*[max_len])\n",
    "                      },\n",
    "                      signature=\"tokens\",\n",
    "                      as_dict=True)[\"elmo\"]\n"
   ]
  },
  {
   "cell_type": "code",
   "execution_count": 12,
   "metadata": {
    "execution": {
     "iopub.execute_input": "2021-10-02T10:15:25.169133Z",
     "iopub.status.busy": "2021-10-02T10:15:25.168810Z",
     "iopub.status.idle": "2021-10-02T10:15:28.510108Z",
     "shell.execute_reply": "2021-10-02T10:15:28.509265Z",
     "shell.execute_reply.started": "2021-10-02T10:15:25.169100Z"
    }
   },
   "outputs": [],
   "source": [
    "input_text = Input(shape=(max_len,), dtype=tf.string)\n",
    "embedding = Lambda(ElmoEmbedding, output_shape=(None, 1024))(input_text)\n",
    "x = Bidirectional(LSTM(units=512, return_sequences=True,\n",
    "                       recurrent_dropout=0.2, dropout=0.2))(embedding)\n",
    "x_rnn = Bidirectional(LSTM(units=512, return_sequences=True,\n",
    "                           recurrent_dropout=0.2, dropout=0.2))(x)\n",
    "x = add([x, x_rnn])  # residual connection to the first biLSTM\n",
    "out = TimeDistributed(Dense(n_tags, activation=\"softmax\"))(x)"
   ]
  },
  {
   "cell_type": "code",
   "execution_count": 13,
   "metadata": {
    "execution": {
     "iopub.execute_input": "2021-10-02T10:15:28.512723Z",
     "iopub.status.busy": "2021-10-02T10:15:28.512257Z",
     "iopub.status.idle": "2021-10-02T10:15:28.519710Z",
     "shell.execute_reply": "2021-10-02T10:15:28.518935Z",
     "shell.execute_reply.started": "2021-10-02T10:15:28.512685Z"
    }
   },
   "outputs": [],
   "source": [
    "model = Model(input_text, out)"
   ]
  },
  {
   "cell_type": "code",
   "execution_count": 14,
   "metadata": {
    "execution": {
     "iopub.execute_input": "2021-10-02T10:15:28.652092Z",
     "iopub.status.busy": "2021-10-02T10:15:28.651787Z",
     "iopub.status.idle": "2021-10-02T10:15:28.722595Z",
     "shell.execute_reply": "2021-10-02T10:15:28.721769Z",
     "shell.execute_reply.started": "2021-10-02T10:15:28.652062Z"
    }
   },
   "outputs": [],
   "source": [
    "model.compile(optimizer=\"adam\", loss=\"sparse_categorical_crossentropy\", metrics=[\"accuracy\"])"
   ]
  },
  {
   "cell_type": "code",
   "execution_count": 15,
   "metadata": {
    "execution": {
     "iopub.execute_input": "2021-10-02T10:15:30.176239Z",
     "iopub.status.busy": "2021-10-02T10:15:30.175878Z",
     "iopub.status.idle": "2021-10-02T10:15:30.188555Z",
     "shell.execute_reply": "2021-10-02T10:15:30.187735Z",
     "shell.execute_reply.started": "2021-10-02T10:15:30.176189Z"
    }
   },
   "outputs": [],
   "source": [
    "model.summary()"
   ]
  },
  {
   "cell_type": "code",
   "execution_count": 16,
   "metadata": {
    "execution": {
     "iopub.execute_input": "2021-10-02T10:15:32.568612Z",
     "iopub.status.busy": "2021-10-02T10:15:32.568294Z",
     "iopub.status.idle": "2021-10-02T10:15:32.996465Z",
     "shell.execute_reply": "2021-10-02T10:15:32.995490Z",
     "shell.execute_reply.started": "2021-10-02T10:15:32.568583Z"
    }
   },
   "outputs": [],
   "source": [
    "from tensorflow.keras.utils import plot_model\n",
    "plot_model(model,'Elmo_tag.png',show_shapes= True)"
   ]
  },
  {
   "cell_type": "code",
   "execution_count": 17,
   "metadata": {
    "execution": {
     "iopub.execute_input": "2021-10-02T10:15:34.528684Z",
     "iopub.status.busy": "2021-10-02T10:15:34.528318Z",
     "iopub.status.idle": "2021-10-02T10:15:34.534278Z",
     "shell.execute_reply": "2021-10-02T10:15:34.533436Z",
     "shell.execute_reply.started": "2021-10-02T10:15:34.528616Z"
    }
   },
   "outputs": [],
   "source": [
    "X_tr, X_val = X_tr[:1213*batch_size], X_tr[-135*batch_size:]\n",
    "y_tr, y_val = y_tr[:1213*batch_size], y_tr[-135*batch_size:]\n",
    "y_tr = y_tr.reshape(y_tr.shape[0], y_tr.shape[1], 1)\n",
    "y_val = y_val.reshape(y_val.shape[0], y_val.shape[1], 1)"
   ]
  },
  {
   "cell_type": "code",
   "execution_count": 18,
   "metadata": {
    "execution": {
     "iopub.execute_input": "2021-10-02T10:15:36.192119Z",
     "iopub.status.busy": "2021-10-02T10:15:36.191780Z",
     "iopub.status.idle": "2021-10-02T10:15:36.197580Z",
     "shell.execute_reply": "2021-10-02T10:15:36.196695Z",
     "shell.execute_reply.started": "2021-10-02T10:15:36.192089Z"
    }
   },
   "outputs": [],
   "source": [
    "len(X_tr)"
   ]
  },
  {
   "cell_type": "code",
   "execution_count": 21,
   "metadata": {
    "execution": {
     "iopub.execute_input": "2021-10-02T10:15:49.163109Z",
     "iopub.status.busy": "2021-10-02T10:15:49.162788Z",
     "iopub.status.idle": "2021-10-02T10:27:38.064328Z",
     "shell.execute_reply": "2021-10-02T10:27:38.063145Z",
     "shell.execute_reply.started": "2021-10-02T10:15:49.163077Z"
    }
   },
   "outputs": [],
   "source": [
    "history = model.fit(np.array(X_tr), y_tr, validation_data=(np.array(X_val), y_val),\n",
    "                    batch_size=batch_size, epochs=5, verbose=1)"
   ]
  },
  {
   "cell_type": "code",
   "execution_count": 22,
   "metadata": {
    "execution": {
     "iopub.execute_input": "2021-10-02T10:27:38.071738Z",
     "iopub.status.busy": "2021-10-02T10:27:38.069442Z",
     "iopub.status.idle": "2021-10-02T10:27:38.080910Z",
     "shell.execute_reply": "2021-10-02T10:27:38.080083Z",
     "shell.execute_reply.started": "2021-10-02T10:27:38.071687Z"
    }
   },
   "outputs": [],
   "source": [
    "hist = pd.DataFrame(history.history)"
   ]
  },
  {
   "cell_type": "code",
   "execution_count": 25,
   "metadata": {
    "execution": {
     "iopub.execute_input": "2021-10-02T10:36:03.908931Z",
     "iopub.status.busy": "2021-10-02T10:36:03.908511Z",
     "iopub.status.idle": "2021-10-02T10:36:04.136315Z",
     "shell.execute_reply": "2021-10-02T10:36:04.135316Z",
     "shell.execute_reply.started": "2021-10-02T10:36:03.908895Z"
    }
   },
   "outputs": [],
   "source": [
    "plt.figure(figsize=(6,6))\n",
    "plt.plot(hist[\"accuracy\"])\n",
    "plt.plot(hist[\"val_accuracy\"])\n",
    "plt.title(\"Learning curves\")\n",
    "plt.legend()\n",
    "plt.show()"
   ]
  },
  {
   "cell_type": "code",
   "execution_count": 26,
   "metadata": {
    "execution": {
     "iopub.execute_input": "2021-10-02T10:36:10.766067Z",
     "iopub.status.busy": "2021-10-02T10:36:10.765743Z",
     "iopub.status.idle": "2021-10-02T10:36:13.624851Z",
     "shell.execute_reply": "2021-10-02T10:36:13.621278Z",
     "shell.execute_reply.started": "2021-10-02T10:36:10.766036Z"
    }
   },
   "outputs": [],
   "source": [
    "i = 19\n",
    "p = model.predict(np.array(X_te[i:i+batch_size]))[0]\n",
    "p = np.argmax(p, axis=-1)\n",
    "print(\"{:15} {:5}: ({})\".format(\"Word\", \"Pred\", \"True\"))\n",
    "print(\"=\"*30)\n",
    "for w, true, pred in zip(X_te[i], y_te[i], p):\n",
    "    if w != \"__PAD__\":\n",
    "        print(\"{:15}:{:5} ({})\".format(w, tags[pred], tags[true]))"
   ]
  },
  {
   "cell_type": "code",
   "execution_count": null,
   "metadata": {},
   "outputs": [],
   "source": []
  }
 ],
 "metadata": {
  "kernelspec": {
   "display_name": "Python 3",
   "language": "python",
   "name": "python3"
  },
  "language_info": {
   "codemirror_mode": {
    "name": "ipython",
    "version": 3
   },
   "file_extension": ".py",
   "mimetype": "text/x-python",
   "name": "python",
   "nbconvert_exporter": "python",
   "pygments_lexer": "ipython3",
   "version": "3.8.3"
  }
 },
 "nbformat": 4,
 "nbformat_minor": 4
}
