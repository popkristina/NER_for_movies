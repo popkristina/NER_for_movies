{
 "cells": [
  {
   "cell_type": "code",
   "execution_count": 1,
   "metadata": {},
   "outputs": [],
   "source": [
    "# Imports\n",
    "\n",
    "import pandas as pd\n",
    "import numpy as np\n",
    "import os\n",
    "import matplotlib.pyplot as plt\n",
    "from keras.preprocessing.sequence import pad_sequences\n",
    "from tensorflow.keras.utils import to_categorical\n",
    "from sklearn.model_selection import train_test_split\n",
    "from sklearn.metrics import classification_report\n",
    "\n",
    "from keras.models import Model, Input, Sequential\n",
    "from keras.layers import LSTM, Embedding, Dense, TimeDistributed, Dropout, Bidirectional, SpatialDropout1D\n",
    "import tensorflow as tf"
   ]
  },
  {
   "cell_type": "code",
   "execution_count": 2,
   "metadata": {},
   "outputs": [],
   "source": [
    "def read_data():\n",
    "    os.chdir('D:/TU_Graz/Thesis/Datasets/Reddit_features')\n",
    "\n",
    "    train = pd.read_csv(\"train_final_all.csv\")\n",
    "    test = pd.read_csv(\"test_final_all.csv\")\n",
    "    data = train.append(test)\n",
    "    return train, test, data"
   ]
  },
  {
   "cell_type": "code",
   "execution_count": 3,
   "metadata": {},
   "outputs": [],
   "source": [
    "def create_lists(data, category):\n",
    "    words = list(set(data[\"Token\"].values))\n",
    "    words.append(\"ENDPAD\")\n",
    "    n_words = len(words)\n",
    "    tags = list(set(data[category].values))\n",
    "    n_tags = len(tags)\n",
    "    \n",
    "    return words, n_words, tags, n_tags"
   ]
  },
  {
   "cell_type": "code",
   "execution_count": 4,
   "metadata": {},
   "outputs": [],
   "source": [
    "def group_sentences(data, category):\n",
    "    all_sents = []\n",
    "    sent_ids = data['Sent_id'].unique()\n",
    "    for curr_id in sent_ids:\n",
    "        tmp_df = data[data['Sent_id'] == curr_id]\n",
    "        tmp_df = pd.concat([tmp_df['Token'], tmp_df[\"Token_index\"], tmp_df.iloc[:,4:149], tmp_df[category]], axis = 1)\n",
    "        records = tmp_df.to_records(index=False)\n",
    "        all_sents.append(records)\n",
    "    return all_sents"
   ]
  },
  {
   "cell_type": "code",
   "execution_count": 5,
   "metadata": {},
   "outputs": [],
   "source": [
    "def remove_sents_over_threshold(sents, threshold):\n",
    "    sentences = list()\n",
    "    for s in sents:\n",
    "        if len(s) < threshold:\n",
    "            sentences.append(s)\n",
    "    return sentences"
   ]
  },
  {
   "cell_type": "code",
   "execution_count": 6,
   "metadata": {},
   "outputs": [],
   "source": [
    "def prepare_and_pad(sentences, max_len, word2idx, tag2idx):\n",
    "    X1 = [[word2idx[w[0]] for w in s] for s in sentences]\n",
    "    X1 = pad_sequences(maxlen = max_len, sequences = X1, padding = \"post\", value = n_words - 1)\n",
    "    X2 = []\n",
    "    for sentence in sentences:\n",
    "        sent_ft = list()\n",
    "        for word in sentence:\n",
    "            ft = list()\n",
    "            for i in range(1, 147):\n",
    "                ft.append(word[i])\n",
    "            sent_ft.append(ft)\n",
    "        for j in range(len(sentence)-1, max_len-1):\n",
    "            ft = list()\n",
    "            for i in range(1, 147):\n",
    "                ft.append(word2idx['ENDPAD'])\n",
    "            sent_ft.append(ft)\n",
    "        X2.append(sent_ft)  \n",
    "\n",
    "    y = [[tag2idx[w[len(w)-1]] for w in s] for s in sentences]\n",
    "    y = pad_sequences(maxlen=max_len, sequences=y, padding=\"post\", value=tag2idx[\"O\"])\n",
    "    y = [to_categorical(i, num_classes=n_tags) for i in y]\n",
    "    \n",
    "    return X1, X2, y"
   ]
  },
  {
   "cell_type": "markdown",
   "metadata": {},
   "source": [
    "### Build and fit the LSTM model\n",
    "\n",
    "Fit a LSTM network with an embedding layer."
   ]
  },
  {
   "cell_type": "code",
   "execution_count": 7,
   "metadata": {},
   "outputs": [],
   "source": [
    "def build_model(max_len, n_words, n_tags):\n",
    "    input_1 = Input(shape=(max_len,))\n",
    "    emb = Embedding(input_dim=n_words, output_dim=300, input_length=max_len)(input_1)\n",
    "    \n",
    "    # Adding hand-picked features\n",
    "    input_2 = Input(shape=(max_len, 146))\n",
    "    fts = Dense(n_tags, activation = 'softmax')(input_2)\n",
    "    \n",
    "    model = tf.keras.layers.Concatenate()([emb, fts])\n",
    "    model = SpatialDropout1D(0.1)(model)\n",
    "    model = Bidirectional(LSTM(units=100, return_sequences=True, recurrent_dropout=0.5))(model)  # variational biLSTM\n",
    "    out = TimeDistributed(Dense(n_tags, activation=\"softmax\"))(model) \n",
    "    model = Model([input_1, input_2], out)\n",
    "    \n",
    "    return model "
   ]
  },
  {
   "cell_type": "code",
   "execution_count": 8,
   "metadata": {},
   "outputs": [],
   "source": [
    "def plot_learning_curves(hist, curve1, curve2):\n",
    "    plt.figure(figsize=(6,6))\n",
    "    plt.plot(hist[curve1])\n",
    "    plt.plot(hist[curve2])\n",
    "    plt.show()"
   ]
  },
  {
   "cell_type": "code",
   "execution_count": null,
   "metadata": {},
   "outputs": [],
   "source": [
    "def test_data(X1_te, X2_te, y_te):\n",
    "    y_pred = model.predict([X1_te, np.array(X2_te).reshape((len(X2_te), max_len, 146))])\n",
    "    p = np.argmax(y_pred, axis=-1)\n",
    "    y_te = np.array(y_te)\n",
    "    y_te = np.argmax(y_te, axis=-1)\n",
    "\n",
    "    y_orig = []\n",
    "    for sent in y_te:\n",
    "        for tag in sent:\n",
    "            y_orig.append(tag)\n",
    "    y_preds = []\n",
    "    for sent in p:\n",
    "        for tag in sent:\n",
    "            y_preds.append(tag)    \n",
    "        \n",
    "    report = classification_report(y_orig, y_preds)\n",
    "    print(report)   "
   ]
  },
  {
   "cell_type": "code",
   "execution_count": 9,
   "metadata": {
    "scrolled": false
   },
   "outputs": [
    {
     "name": "stdout",
     "output_type": "stream",
     "text": [
      "Loading the data...\n",
      "Done.\n",
      "Creating sets of words and tags...\n",
      "Done.\n",
      "Creating sentence list...\n",
      "Done.\n",
      "Removing submissions longer than threshold...\n",
      "Done.\n",
      "Creating word and tag maps...\n",
      "Done.\n",
      "Padding data...\n",
      "Done.\n",
      "Building the model...\n",
      "Model: \"model\"\n",
      "__________________________________________________________________________________________________\n",
      "Layer (type)                    Output Shape         Param #     Connected to                     \n",
      "==================================================================================================\n",
      "input_1 (InputLayer)            [(None, 300)]        0                                            \n",
      "__________________________________________________________________________________________________\n",
      "input_2 (InputLayer)            [(None, 300, 146)]   0                                            \n",
      "__________________________________________________________________________________________________\n",
      "embedding (Embedding)           (None, 300, 300)     2922900     input_1[0][0]                    \n",
      "__________________________________________________________________________________________________\n",
      "dense (Dense)                   (None, 300, 17)      2499        input_2[0][0]                    \n",
      "__________________________________________________________________________________________________\n",
      "concatenate (Concatenate)       (None, 300, 317)     0           embedding[0][0]                  \n",
      "                                                                 dense[0][0]                      \n",
      "__________________________________________________________________________________________________\n",
      "spatial_dropout1d (SpatialDropo (None, 300, 317)     0           concatenate[0][0]                \n",
      "__________________________________________________________________________________________________\n",
      "bidirectional (Bidirectional)   (None, 300, 200)     334400      spatial_dropout1d[0][0]          \n",
      "__________________________________________________________________________________________________\n",
      "time_distributed (TimeDistribut (None, 300, 17)      3417        bidirectional[0][0]              \n",
      "==================================================================================================\n",
      "Total params: 3,263,216\n",
      "Trainable params: 3,263,216\n",
      "Non-trainable params: 0\n",
      "__________________________________________________________________________________________________\n",
      "Done.\n",
      "Fitting the model....\n",
      "Epoch 1/15\n",
      "30/30 [==============================] - 43s 1s/step - loss: 0.3797 - accuracy: 0.9243 - val_loss: 0.1770 - val_accuracy: 0.9559\n",
      "Epoch 2/15\n",
      "30/30 [==============================] - 40s 1s/step - loss: 0.1579 - accuracy: 0.9571 - val_loss: 0.1553 - val_accuracy: 0.9565\n",
      "Epoch 3/15\n",
      "30/30 [==============================] - 39s 1s/step - loss: 0.1220 - accuracy: 0.9656 - val_loss: 0.1154 - val_accuracy: 0.9684\n",
      "Epoch 4/15\n",
      "30/30 [==============================] - 39s 1s/step - loss: 0.0930 - accuracy: 0.9734 - val_loss: 0.0989 - val_accuracy: 0.9728\n",
      "Epoch 5/15\n",
      "30/30 [==============================] - 40s 1s/step - loss: 0.0749 - accuracy: 0.9788 - val_loss: 0.0905 - val_accuracy: 0.9750\n",
      "Epoch 6/15\n",
      "30/30 [==============================] - 41s 1s/step - loss: 0.0639 - accuracy: 0.9824 - val_loss: 0.0848 - val_accuracy: 0.9773\n",
      "Epoch 7/15\n",
      "30/30 [==============================] - 40s 1s/step - loss: 0.0555 - accuracy: 0.9846 - val_loss: 0.0866 - val_accuracy: 0.9762\n",
      "Epoch 8/15\n",
      "30/30 [==============================] - 40s 1s/step - loss: 0.0500 - accuracy: 0.9860 - val_loss: 0.0855 - val_accuracy: 0.9764\n",
      "Epoch 9/15\n",
      "30/30 [==============================] - 40s 1s/step - loss: 0.0450 - accuracy: 0.9872 - val_loss: 0.0807 - val_accuracy: 0.9788\n",
      "Epoch 10/15\n",
      "30/30 [==============================] - 41s 1s/step - loss: 0.0407 - accuracy: 0.9884 - val_loss: 0.0790 - val_accuracy: 0.9786\n",
      "Epoch 11/15\n",
      "30/30 [==============================] - 41s 1s/step - loss: 0.0376 - accuracy: 0.9890 - val_loss: 0.0781 - val_accuracy: 0.9796\n",
      "Epoch 12/15\n",
      "30/30 [==============================] - 41s 1s/step - loss: 0.0342 - accuracy: 0.9902 - val_loss: 0.0797 - val_accuracy: 0.9799\n",
      "Epoch 13/15\n",
      "30/30 [==============================] - 41s 1s/step - loss: 0.0315 - accuracy: 0.9908 - val_loss: 0.0834 - val_accuracy: 0.9788\n",
      "Epoch 14/15\n",
      "30/30 [==============================] - 41s 1s/step - loss: 0.0286 - accuracy: 0.9916 - val_loss: 0.0824 - val_accuracy: 0.9796\n",
      "Epoch 15/15\n",
      "30/30 [==============================] - 42s 1s/step - loss: 0.0264 - accuracy: 0.9923 - val_loss: 0.0814 - val_accuracy: 0.9796\n",
      "Done.\n",
      "Plotting learning curves...\n"
     ]
    },
    {
     "data": {
      "image/png": "[encoded data removed]",
      "text/plain": [
       "<Figure size 432x432 with 1 Axes>"
      ]
     },
     "metadata": {
      "needs_background": "light"
     },
     "output_type": "display_data"
    },
    {
     "data": {
      "image/png": "[encoded data removed]",
      "text/plain": [
       "<Figure size 432x432 with 1 Axes>"
      ]
     },
     "metadata": {
      "needs_background": "light"
     },
     "output_type": "display_data"
    },
    {
     "name": "stdout",
     "output_type": "stream",
     "text": [
      "Done.\n",
      "              precision    recall  f1-score   support\n",
      "\n",
      "           0       0.00      0.00      0.00        29\n",
      "           1       0.20      0.06      0.09        36\n",
      "           2       0.00      0.00      0.00         4\n",
      "           3       0.91      0.84      0.88        38\n",
      "           4       0.40      0.09      0.14        23\n",
      "           5       0.51      0.42      0.46       543\n",
      "           6       0.33      0.19      0.24        16\n",
      "           8       0.83      0.81      0.82      1079\n",
      "           9       0.00      0.00      0.00        20\n",
      "          10       0.00      0.00      0.00        17\n",
      "          11       0.82      0.86      0.84      1346\n",
      "          12       0.00      0.00      0.00         4\n",
      "          13       0.00      0.00      0.00        18\n",
      "          14       0.72      0.82      0.77       170\n",
      "          15       0.39      0.25      0.31       308\n",
      "          16       0.99      0.99      0.99     76749\n",
      "\n",
      "    accuracy                           0.98     80400\n",
      "   macro avg       0.38      0.33      0.35     80400\n",
      "weighted avg       0.98      0.98      0.98     80400\n",
      "\n"
     ]
    },
    {
     "name": "stderr",
     "output_type": "stream",
     "text": [
      "C:\\Users\\Kiki\\anaconda3\\lib\\site-packages\\sklearn\\metrics\\_classification.py:1221: UndefinedMetricWarning: Precision and F-score are ill-defined and being set to 0.0 in labels with no predicted samples. Use `zero_division` parameter to control this behavior.\n",
      "  _warn_prf(average, modifier, msg_start, len(result))\n"
     ]
    }
   ],
   "source": [
    "print(\"Reading the data...\")\n",
    "train, test, data = read_data()\n",
    "\n",
    "print(\"Creating sets of words and tags...\")\n",
    "words, n_words, tags, n_tags = create_lists(data, \"BIO\")\n",
    "\n",
    "print(\"Creating sentence list...\")\n",
    "sents = group_sentences(data, 'BIO')\n",
    "\n",
    "print(\"Removing submissions longer than threshold...\")\n",
    "sentences = remove_sents_over_threshold(sents, 300)\n",
    "\n",
    "print(\"Creating word and tag maps...\")\n",
    "max_len = 300\n",
    "word2idx = {w: i for i, w in enumerate(words)}\n",
    "tag2idx = {t: i for i, t in enumerate(tags)}\n",
    "\n",
    "print(\"Padding data...\")\n",
    "X1, X2, y = prepare_and_pad(sentences, max_len, word2idx, tag2idx)\n",
    "\n",
    "# Train and test split\n",
    "#X_tr, X_te, y_tr, y_te = train_test_split(X, y, test_size=0.3)\n",
    "X1_tr = X1[0:1185]\n",
    "X2_tr = X2[0:1185]\n",
    "y_tr = y[0:1185]\n",
    "X1_te = X1[1186:]\n",
    "X2_te = X2[1186:]\n",
    "y_te = y[1186:]\n",
    "\n",
    "print(\"Building the model...\")\n",
    "model = build_model(max_len, n_words, n_tags)\n",
    "model.compile(optimizer=\"rmsprop\", loss=\"categorical_crossentropy\", metrics=[\"accuracy\"])\n",
    "model.summary()\n",
    "\n",
    "print(\"Fitting the model....\")\n",
    "history = model.fit([X1_tr, np.array(X2_tr).reshape((len(X2_tr), max_len, 146))], \n",
    "                    np.array(y_tr), batch_size=32, epochs=15, validation_split=0.2, verbose=1)\n",
    "hist = pd.DataFrame(history.history)\n",
    "\n",
    "print(\"Plotting learning curves...\")\n",
    "plot_learning_curves(hist, \"accuracy\", \"val_accuracy\")\n",
    "plot_learning_curves(hist, \"loss\", \"val_loss\")\n",
    "\n",
    "print(\"Test the model...\")\n",
    "test_data(X1_te, X2_te, y_te)"
   ]
  },
  {
   "cell_type": "code",
   "execution_count": null,
   "metadata": {},
   "outputs": [],
   "source": [
    "tag2idx"
   ]
  },
  {
   "cell_type": "code",
   "execution_count": null,
   "metadata": {},
   "outputs": [],
   "source": []
  },
  {
   "cell_type": "code",
   "execution_count": null,
   "metadata": {},
   "outputs": [],
   "source": []
  }
 ],
 "metadata": {
  "kernelspec": {
   "display_name": "Python 3",
   "language": "python",
   "name": "python3"
  },
  "language_info": {
   "codemirror_mode": {
    "name": "ipython",
    "version": 3
   },
   "file_extension": ".py",
   "mimetype": "text/x-python",
   "name": "python",
   "nbconvert_exporter": "python",
   "pygments_lexer": "ipython3",
   "version": "3.8.3"
  }
 },
 "nbformat": 4,
 "nbformat_minor": 4
}
