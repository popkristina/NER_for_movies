{
 "cells": [
  {
   "cell_type": "code",
   "execution_count": 1,
   "metadata": {
    "_cell_guid": "b1076dfc-b9ad-4769-8c92-a6c4dae69d19",
    "_uuid": "8f2839f25d086af736a60e9eeb907d3b93b6e0e5",
    "execution": {
     "iopub.execute_input": "2022-10-10T09:54:52.831757Z",
     "iopub.status.busy": "2022-10-10T09:54:52.831147Z",
     "iopub.status.idle": "2022-10-10T09:54:59.109193Z",
     "shell.execute_reply": "2022-10-10T09:54:59.108434Z",
     "shell.execute_reply.started": "2022-10-10T09:54:52.831678Z"
    }
   },
   "outputs": [],
   "source": [
    "# Imports\n",
    "\n",
    "import pandas as pd\n",
    "import numpy as np\n",
    "import os\n",
    "import json\n",
    "import matplotlib.pyplot as plt\n",
    "from sklearn.metrics import classification_report\n",
    "from keras.preprocessing.sequence import pad_sequences\n",
    "from tensorflow.keras.utils import to_categorical\n",
    "from sklearn.model_selection import train_test_split\n",
    "\n",
    "import tensorflow as tf\n",
    "import tensorflow.compat.v1 as tf\n",
    "import tensorflow_hub as hub\n",
    "#from keras import backend as K\n",
    "from tensorflow.compat.v1.keras import backend as K\n",
    "from tensorflow.keras.utils import plot_model\n",
    "\n",
    "from keras.models import Model, Input\n",
    "from keras.layers.merge import add\n",
    "from keras.layers import Concatenate, Dropout, LSTM, TimeDistributed, Dense, BatchNormalization, Bidirectional, Lambda, SpatialDropout1D\n",
    "\n",
    "import pickle\n",
    "import h5py"
   ]
  },
  {
   "cell_type": "code",
   "execution_count": 2,
   "metadata": {
    "execution": {
     "iopub.execute_input": "2022-10-10T09:54:59.111347Z",
     "iopub.status.busy": "2022-10-10T09:54:59.111075Z",
     "iopub.status.idle": "2022-10-10T09:54:59.123791Z",
     "shell.execute_reply": "2022-10-10T09:54:59.121808Z",
     "shell.execute_reply.started": "2022-10-10T09:54:59.111312Z"
    }
   },
   "outputs": [],
   "source": [
    "def read_data():\n",
    "    #os.chdir('D:/TU_Graz/Thesis/Datasets/Reddit_features')\n",
    "    train = pd.read_csv(\"../input/bio-tagged/train_final_all.csv\") #train = pd.read_csv(\"train_final_all.csv\")\n",
    "    test = pd.read_csv(\"../input/bio-tagged/test_final_all.csv\") #test = pd.read_csv(\"test_final_all.csv\")\n",
    "    data = train.append(test)\n",
    "    return train, test, data\n",
    "\n",
    "def create_lists(data_df, word_category, class_category):\n",
    "    words = list(set(data_df[word_category].values))\n",
    "    words.append(\"ENDPAD\")\n",
    "    n_words = len(words)\n",
    "    tags = list(set(data_df[class_category].values))\n",
    "    n_tags = len(tags)\n",
    "    return words, n_words, tags, n_tags"
   ]
  },
  {
   "cell_type": "code",
   "execution_count": 3,
   "metadata": {
    "execution": {
     "iopub.execute_input": "2022-10-10T09:56:16.835213Z",
     "iopub.status.busy": "2022-10-10T09:56:16.834944Z",
     "iopub.status.idle": "2022-10-10T09:56:16.842224Z",
     "shell.execute_reply": "2022-10-10T09:56:16.841267Z",
     "shell.execute_reply.started": "2022-10-10T09:56:16.835182Z"
    }
   },
   "outputs": [],
   "source": [
    "def group_sentences(data, sent_identificator, category):\n",
    "    all_sents = []\n",
    "    sent_ids = data[sent_identificator].unique()\n",
    "    for curr_id in sent_ids:\n",
    "        tmp_df = data[data[sent_identificator] == curr_id]\n",
    "        tmp_df = pd.concat([tmp_df['Sent_id'], tmp_df['Token'], tmp_df[\"Token_index\"], tmp_df.iloc[:,4:44], tmp_df.iloc[:,137:147], tmp_df[category]], axis = 1) \n",
    "        records = tmp_df.to_records(index=False)\n",
    "        all_sents.append(records)\n",
    "        \n",
    "    return all_sents\n",
    "\n",
    "\n",
    "def remove_sents_over_threshold(sents, threshold):\n",
    "    sentences = list()\n",
    "    for s in sents:\n",
    "        if len(s) < threshold:\n",
    "            sentences.append(s)\n",
    "    return sentences"
   ]
  },
  {
   "cell_type": "code",
   "execution_count": 5,
   "metadata": {
    "execution": {
     "iopub.execute_input": "2022-10-10T09:57:36.800795Z",
     "iopub.status.busy": "2022-10-10T09:57:36.800588Z",
     "iopub.status.idle": "2022-10-10T09:57:36.809525Z",
     "shell.execute_reply": "2022-10-10T09:57:36.808744Z",
     "shell.execute_reply.started": "2022-10-10T09:57:36.800758Z"
    }
   },
   "outputs": [],
   "source": [
    "def prepare_and_pad(sentences, max_len, tag2idx):\n",
    "    X1 = [[w[1] for w in s] for s in sentences]\n",
    "    new_X = []\n",
    "    for seq in X1:\n",
    "        new_seq = []\n",
    "        for i in range(max_len):\n",
    "            try:\n",
    "                new_seq.append(seq[i])\n",
    "            except:\n",
    "                new_seq.append(\"__PAD__\")\n",
    "        new_X.append(new_seq)\n",
    "    X1 = new_X\n",
    "    \n",
    "    X2 = []\n",
    "    for sentence in sentences:\n",
    "        sent_ft = list()\n",
    "        for word in sentence:\n",
    "            ft = [word[i] for i in range(2, 52)]\n",
    "            sent_ft.append(ft)\n",
    "        for j in range(len(sentence)-1, max_len-1):\n",
    "            ft = [0] * 50\n",
    "            sent_ft.append(ft)\n",
    "        X2.append(sent_ft)  \n",
    "        \n",
    "    y = [[tag2idx[w[len(w)-1]] for w in s] for s in sentences]\n",
    "    y = pad_sequences(maxlen=max_len, sequences=y, padding=\"post\", value=tag2idx[\"O\"])\n",
    "    \n",
    "    return X1, X2, y"
   ]
  },
  {
   "cell_type": "code",
   "execution_count": 6,
   "metadata": {
    "execution": {
     "iopub.execute_input": "2022-10-10T09:57:37.311649Z",
     "iopub.status.busy": "2022-10-10T09:57:37.311365Z",
     "iopub.status.idle": "2022-10-10T09:57:37.316440Z",
     "shell.execute_reply": "2022-10-10T09:57:37.315458Z",
     "shell.execute_reply.started": "2022-10-10T09:57:37.311617Z"
    }
   },
   "outputs": [],
   "source": [
    "def ElmoEmbedding(x):\n",
    "    return elmo_model(inputs={\"tokens\": tf.squeeze(tf.cast(x, tf.string)),\n",
    "                              \"sequence_len\": tf.constant(batch_size*[max_len])},\n",
    "                      signature=\"tokens\",\n",
    "                      as_dict=True)[\"elmo\"]"
   ]
  },
  {
   "cell_type": "code",
   "execution_count": 7,
   "metadata": {
    "execution": {
     "iopub.execute_input": "2022-10-10T09:58:01.919759Z",
     "iopub.status.busy": "2022-10-10T09:58:01.919487Z",
     "iopub.status.idle": "2022-10-10T09:58:01.926066Z",
     "shell.execute_reply": "2022-10-10T09:58:01.925181Z",
     "shell.execute_reply.started": "2022-10-10T09:58:01.919729Z"
    }
   },
   "outputs": [],
   "source": [
    "def build_model(max_len, n_words, n_tags): \n",
    "    word_input_layer = Input(shape=(max_len, 50, ))\n",
    "    elmo_input_layer = Input(shape=(max_len,), dtype=tf.string)\n",
    "    \n",
    "    word_output_layer = Dense(50, activation = 'softmax')(word_input_layer)\n",
    "    elmo_output_layer = Lambda(ElmoEmbedding, output_shape=(None, 1024))(elmo_input_layer)\n",
    "    \n",
    "    output_layer = Concatenate()([word_output_layer, elmo_output_layer])\n",
    "    output_layer = SpatialDropout1D(0.1)(elmo_output_layer)\n",
    "    output_layer = Bidirectional(LSTM(units=512, return_sequences=True, recurrent_dropout=0.35))(output_layer)\n",
    "    output_layer = TimeDistributed(Dense(n_tags, activation='softmax'))(output_layer)\n",
    "    model = Model([elmo_input_layer, word_input_layer], output_layer)\n",
    "    \n",
    "    return model"
   ]
  },
  {
   "cell_type": "code",
   "execution_count": 8,
   "metadata": {
    "execution": {
     "iopub.execute_input": "2022-10-10T09:58:04.200711Z",
     "iopub.status.busy": "2022-10-10T09:58:04.200067Z",
     "iopub.status.idle": "2022-10-10T09:58:04.205276Z",
     "shell.execute_reply": "2022-10-10T09:58:04.204372Z",
     "shell.execute_reply.started": "2022-10-10T09:58:04.200673Z"
    }
   },
   "outputs": [],
   "source": [
    "def plot_learning_curves(curve1, curve2):\n",
    "    plt.figure(figsize=(6,6))\n",
    "    plt.plot(curve1)\n",
    "    plt.plot(curve2)\n",
    "    plt.show()"
   ]
  },
  {
   "cell_type": "code",
   "execution_count": 9,
   "metadata": {
    "execution": {
     "iopub.execute_input": "2022-10-10T09:58:24.741174Z",
     "iopub.status.busy": "2022-10-10T09:58:24.740897Z",
     "iopub.status.idle": "2022-10-10T10:22:06.925010Z",
     "shell.execute_reply": "2022-10-10T10:22:06.924096Z",
     "shell.execute_reply.started": "2022-10-10T09:58:24.741143Z"
    }
   },
   "outputs": [
    {
     "name": "stdout",
     "output_type": "stream",
     "text": [
      "Loading the data...\n",
      "Creating sets of words and tags...\n",
      "Creating sentence list...\n",
      "Creating word and tag maps...\n",
      "Preparing and padding training data...\n",
      "Splitting data...\n",
      "Setting parameters...\n"
     ]
    },
    {
     "name": "stderr",
     "output_type": "stream",
     "text": [
      "2022-10-10 09:58:56.696762: I tensorflow/stream_executor/cuda/cuda_gpu_executor.cc:937] successful NUMA node read from SysFS had negative value (-1), but there must be at least one NUMA node, so returning NUMA node zero\n",
      "2022-10-10 09:58:56.854463: I tensorflow/stream_executor/cuda/cuda_gpu_executor.cc:937] successful NUMA node read from SysFS had negative value (-1), but there must be at least one NUMA node, so returning NUMA node zero\n",
      "2022-10-10 09:58:56.855268: I tensorflow/stream_executor/cuda/cuda_gpu_executor.cc:937] successful NUMA node read from SysFS had negative value (-1), but there must be at least one NUMA node, so returning NUMA node zero\n",
      "2022-10-10 09:58:56.856580: I tensorflow/core/platform/cpu_feature_guard.cc:142] This TensorFlow binary is optimized with oneAPI Deep Neural Network Library (oneDNN) to use the following CPU instructions in performance-critical operations:  AVX2 AVX512F FMA\n",
      "To enable them in other operations, rebuild TensorFlow with the appropriate compiler flags.\n",
      "2022-10-10 09:58:56.857624: I tensorflow/stream_executor/cuda/cuda_gpu_executor.cc:937] successful NUMA node read from SysFS had negative value (-1), but there must be at least one NUMA node, so returning NUMA node zero\n",
      "2022-10-10 09:58:56.858400: I tensorflow/stream_executor/cuda/cuda_gpu_executor.cc:937] successful NUMA node read from SysFS had negative value (-1), but there must be at least one NUMA node, so returning NUMA node zero\n",
      "2022-10-10 09:58:56.859179: I tensorflow/stream_executor/cuda/cuda_gpu_executor.cc:937] successful NUMA node read from SysFS had negative value (-1), but there must be at least one NUMA node, so returning NUMA node zero\n",
      "2022-10-10 09:58:59.149562: I tensorflow/stream_executor/cuda/cuda_gpu_executor.cc:937] successful NUMA node read from SysFS had negative value (-1), but there must be at least one NUMA node, so returning NUMA node zero\n",
      "2022-10-10 09:58:59.150875: I tensorflow/stream_executor/cuda/cuda_gpu_executor.cc:937] successful NUMA node read from SysFS had negative value (-1), but there must be at least one NUMA node, so returning NUMA node zero\n",
      "2022-10-10 09:58:59.151916: I tensorflow/stream_executor/cuda/cuda_gpu_executor.cc:937] successful NUMA node read from SysFS had negative value (-1), but there must be at least one NUMA node, so returning NUMA node zero\n",
      "2022-10-10 09:58:59.152707: I tensorflow/core/common_runtime/gpu/gpu_device.cc:1510] Created device /job:localhost/replica:0/task:0/device:GPU:0 with 15403 MB memory:  -> device: 0, name: Tesla P100-PCIE-16GB, pci bus id: 0000:00:04.0, compute capability: 6.0\n"
     ]
    },
    {
     "name": "stdout",
     "output_type": "stream",
     "text": [
      "Building the model...\n"
     ]
    },
    {
     "name": "stderr",
     "output_type": "stream",
     "text": [
      "2022-10-10 09:59:00.844323: I tensorflow/stream_executor/cuda/cuda_gpu_executor.cc:937] successful NUMA node read from SysFS had negative value (-1), but there must be at least one NUMA node, so returning NUMA node zero\n",
      "2022-10-10 09:59:00.844927: I tensorflow/stream_executor/cuda/cuda_gpu_executor.cc:937] successful NUMA node read from SysFS had negative value (-1), but there must be at least one NUMA node, so returning NUMA node zero\n",
      "2022-10-10 09:59:00.845290: I tensorflow/stream_executor/cuda/cuda_gpu_executor.cc:937] successful NUMA node read from SysFS had negative value (-1), but there must be at least one NUMA node, so returning NUMA node zero\n",
      "2022-10-10 09:59:00.845739: I tensorflow/stream_executor/cuda/cuda_gpu_executor.cc:937] successful NUMA node read from SysFS had negative value (-1), but there must be at least one NUMA node, so returning NUMA node zero\n",
      "2022-10-10 09:59:00.846094: I tensorflow/stream_executor/cuda/cuda_gpu_executor.cc:937] successful NUMA node read from SysFS had negative value (-1), but there must be at least one NUMA node, so returning NUMA node zero\n",
      "2022-10-10 09:59:00.846379: I tensorflow/core/common_runtime/gpu/gpu_device.cc:1510] Created device /job:localhost/replica:0/task:0/device:GPU:0 with 15403 MB memory:  -> device: 0, name: Tesla P100-PCIE-16GB, pci bus id: 0000:00:04.0, compute capability: 6.0\n"
     ]
    },
    {
     "name": "stdout",
     "output_type": "stream",
     "text": [
      "Model: \"model\"\n",
      "__________________________________________________________________________________________________\n",
      "Layer (type)                    Output Shape         Param #     Connected to                     \n",
      "==================================================================================================\n",
      "input_2 (InputLayer)            [(None, 300)]        0                                            \n",
      "__________________________________________________________________________________________________\n",
      "lambda (Lambda)                 (32, None, 1024)     0           input_2[0][0]                    \n",
      "__________________________________________________________________________________________________\n",
      "spatial_dropout1d (SpatialDropo (32, None, 1024)     0           lambda[0][0]                     \n",
      "__________________________________________________________________________________________________\n",
      "bidirectional (Bidirectional)   (32, None, 1024)     6295552     spatial_dropout1d[0][0]          \n",
      "__________________________________________________________________________________________________\n",
      "input_1 (InputLayer)            [(None, 300, 50)]    0                                            \n",
      "__________________________________________________________________________________________________\n",
      "time_distributed (TimeDistribut (32, None, 17)       17425       bidirectional[0][0]              \n",
      "==================================================================================================\n",
      "Total params: 6,312,977\n",
      "Trainable params: 6,312,977\n",
      "Non-trainable params: 0\n",
      "__________________________________________________________________________________________________\n",
      "Train on 928 samples, validate on 224 samples\n",
      "Epoch 1/20\n"
     ]
    },
    {
     "name": "stderr",
     "output_type": "stream",
     "text": [
      "2022-10-10 09:59:07.457540: I tensorflow/stream_executor/cuda/cuda_dnn.cc:369] Loaded cuDNN version 8005\n"
     ]
    },
    {
     "name": "stdout",
     "output_type": "stream",
     "text": [
      "928/928 [==============================] - ETA: 0s - loss: 0.2902 - accuracy: 0.9290"
     ]
    },
    {
     "name": "stderr",
     "output_type": "stream",
     "text": [
      "/opt/conda/lib/python3.7/site-packages/keras/engine/training.py:2470: UserWarning: `Model.state_updates` will be removed in a future version. This property should not be used in TensorFlow 2.0, as `updates` are applied automatically.\n",
      "  warnings.warn('`Model.state_updates` will be removed in a future version. '\n"
     ]
    },
    {
     "name": "stdout",
     "output_type": "stream",
     "text": [
      "928/928 [==============================] - 78s 84ms/sample - loss: 0.2902 - accuracy: 0.9290 - val_loss: 0.1055 - val_accuracy: 0.9712\n",
      "Epoch 2/20\n",
      "928/928 [==============================] - 69s 74ms/sample - loss: 0.0890 - accuracy: 0.9753 - val_loss: 0.0804 - val_accuracy: 0.9774\n",
      "Epoch 3/20\n",
      "928/928 [==============================] - 69s 74ms/sample - loss: 0.0710 - accuracy: 0.9801 - val_loss: 0.0697 - val_accuracy: 0.9802\n",
      "Epoch 4/20\n",
      "928/928 [==============================] - 69s 75ms/sample - loss: 0.0614 - accuracy: 0.9821 - val_loss: 0.0633 - val_accuracy: 0.9814\n",
      "Epoch 5/20\n",
      "928/928 [==============================] - 69s 74ms/sample - loss: 0.0550 - accuracy: 0.9836 - val_loss: 0.0597 - val_accuracy: 0.9822\n",
      "Epoch 6/20\n",
      "928/928 [==============================] - 68s 74ms/sample - loss: 0.0496 - accuracy: 0.9850 - val_loss: 0.0576 - val_accuracy: 0.9829\n",
      "Epoch 7/20\n",
      "928/928 [==============================] - 69s 74ms/sample - loss: 0.0456 - accuracy: 0.9860 - val_loss: 0.0556 - val_accuracy: 0.9832\n",
      "Epoch 8/20\n",
      "928/928 [==============================] - 69s 74ms/sample - loss: 0.0420 - accuracy: 0.9870 - val_loss: 0.0568 - val_accuracy: 0.9833\n",
      "Epoch 9/20\n",
      "928/928 [==============================] - 68s 74ms/sample - loss: 0.0399 - accuracy: 0.9877 - val_loss: 0.0549 - val_accuracy: 0.9834\n",
      "Epoch 10/20\n",
      "928/928 [==============================] - 68s 74ms/sample - loss: 0.0370 - accuracy: 0.9883 - val_loss: 0.0560 - val_accuracy: 0.9839\n",
      "Epoch 11/20\n",
      "928/928 [==============================] - 69s 75ms/sample - loss: 0.0335 - accuracy: 0.9893 - val_loss: 0.0545 - val_accuracy: 0.9840\n",
      "Epoch 12/20\n",
      "928/928 [==============================] - 69s 75ms/sample - loss: 0.0306 - accuracy: 0.9903 - val_loss: 0.0561 - val_accuracy: 0.9838\n",
      "Epoch 13/20\n",
      "928/928 [==============================] - 68s 73ms/sample - loss: 0.0283 - accuracy: 0.9911 - val_loss: 0.0561 - val_accuracy: 0.9839\n",
      "Epoch 14/20\n",
      "928/928 [==============================] - 69s 74ms/sample - loss: 0.0253 - accuracy: 0.9919 - val_loss: 0.0571 - val_accuracy: 0.9838\n",
      "Epoch 15/20\n",
      "928/928 [==============================] - 68s 74ms/sample - loss: 0.0241 - accuracy: 0.9923 - val_loss: 0.0568 - val_accuracy: 0.9835\n",
      "Epoch 16/20\n",
      "928/928 [==============================] - 68s 74ms/sample - loss: 0.0218 - accuracy: 0.9931 - val_loss: 0.0568 - val_accuracy: 0.9842\n",
      "Epoch 17/20\n",
      "928/928 [==============================] - 68s 73ms/sample - loss: 0.0190 - accuracy: 0.9939 - val_loss: 0.0605 - val_accuracy: 0.9839\n",
      "Epoch 18/20\n",
      "928/928 [==============================] - 68s 74ms/sample - loss: 0.0168 - accuracy: 0.9948 - val_loss: 0.0603 - val_accuracy: 0.9841\n",
      "Epoch 19/20\n",
      "928/928 [==============================] - 68s 73ms/sample - loss: 0.0152 - accuracy: 0.9954 - val_loss: 0.0635 - val_accuracy: 0.9844\n",
      "Epoch 20/20\n",
      "928/928 [==============================] - 68s 73ms/sample - loss: 0.0142 - accuracy: 0.9956 - val_loss: 0.0640 - val_accuracy: 0.9841\n"
     ]
    },
    {
     "data": {
      "image/png": "[encoded data removed]",
      "text/plain": [
       "<Figure size 432x432 with 1 Axes>"
      ]
     },
     "metadata": {},
     "output_type": "display_data"
    },
    {
     "data": {
      "image/png": "[encoded data removed]",
      "text/plain": [
       "<Figure size 432x432 with 1 Axes>"
      ]
     },
     "metadata": {},
     "output_type": "display_data"
    }
   ],
   "source": [
    "max_len = 300\n",
    "batch_size = 32\n",
    "#batch_size = 2\n",
    "\n",
    "plt.style.use(\"ggplot\")\n",
    "\n",
    "print(\"Loading the data...\")\n",
    "train, test, data = read_data()\n",
    "\n",
    "################################## TRAIN ################################\n",
    "\n",
    "print(\"Creating sets of words and tags...\")\n",
    "words, n_words, tags, n_tags = create_lists(train, \"Token\", \"BIO\")\n",
    "\n",
    "print(\"Creating sentence list...\")\n",
    "sents = group_sentences(train, \"Sent_id\", \"BIO\")\n",
    "sentences = [s for s in sents if len(s) < max_len]\n",
    "\n",
    "print(\"Creating word and tag maps...\")\n",
    "tag2idx = {t: i for i, t in enumerate(tags)}\n",
    "idx2tag = {v: k for k, v in tag2idx.items()}\n",
    "\n",
    "print(\"Preparing and padding training data...\")\n",
    "X1, X2, y = prepare_and_pad(sentences, max_len, tag2idx)\n",
    "\n",
    "print(\"Splitting data...\")\n",
    "X1_train, X1_valid, y_train, y_valid = train_test_split(X1, y, test_size=0.2, random_state=2021)\n",
    "X2_train, X2_valid, y_train, y_valid = train_test_split(X2, y, test_size=0.2, random_state=2021)\n",
    "X1_train = X1_train[:(len(X1_train) // batch_size) * batch_size]\n",
    "X2_train = X2_train[:(len(X2_train) // batch_size) * batch_size]\n",
    "X1_valid = X1_valid[:(len(X1_valid) // batch_size) * batch_size]\n",
    "X2_valid = X2_valid[:(len(X2_valid) // batch_size) * batch_size]\n",
    "\n",
    "y_train = y_train[:(len(y_train) // batch_size) * batch_size]\n",
    "y_valid = y_valid[:(len(y_valid) // batch_size) * batch_size] \n",
    "y_train = y_train.reshape(y_train.shape[0], y_train.shape[1], 1)\n",
    "y_valid = y_valid.reshape(y_valid.shape[0], y_valid.shape[1], 1)\n",
    "   \n",
    "print(\"Setting parameters...\")\n",
    "tf.disable_eager_execution()\n",
    "elmo_model = hub.Module(\"https://tfhub.dev/google/elmo/3\", trainable=True)\n",
    "sess = tf.Session()\n",
    "K.set_session(sess)\n",
    "sess.run([tf.global_variables_initializer(), tf.tables_initializer()])\n",
    "\n",
    "print(\"Building the model...\")\n",
    "model = build_model(max_len, n_words, n_tags)\n",
    "model.compile(optimizer=\"adam\", loss=\"sparse_categorical_crossentropy\", metrics=[\"accuracy\"])\n",
    "model.summary()\n",
    "\n",
    "\n",
    "history = model.fit([np.array(X1_train), np.array(X2_train).reshape((len(X2_train), max_len, 50))],\n",
    "                    y_train,\n",
    "                    validation_data=([np.array(X1_valid), np.array(X2_valid).reshape((len(X2_valid), max_len, 50))], y_valid),\n",
    "                    batch_size=batch_size, epochs=20, verbose=1)\n",
    "\n",
    "hist = pd.DataFrame(history.history)\n",
    "\n",
    "plot_learning_curves(hist[\"loss\"], hist[\"val_loss\"])\n",
    "plot_learning_curves(hist[\"accuracy\"], hist[\"val_accuracy\"])"
   ]
  },
  {
   "cell_type": "code",
   "execution_count": 51,
   "metadata": {
    "execution": {
     "iopub.execute_input": "2022-10-10T10:46:16.131145Z",
     "iopub.status.busy": "2022-10-10T10:46:16.130874Z",
     "iopub.status.idle": "2022-10-10T10:46:34.725892Z",
     "shell.execute_reply": "2022-10-10T10:46:34.725100Z",
     "shell.execute_reply.started": "2022-10-10T10:46:16.131113Z"
    }
   },
   "outputs": [
    {
     "name": "stdout",
     "output_type": "stream",
     "text": [
      "Creating sentence list...\n",
      "Preparing and padding training data...\n"
     ]
    }
   ],
   "source": [
    "################# TEST ################################\n",
    "\n",
    "print(\"Creating sentence list...\")\n",
    "sents_test = group_sentences(test, \"Sent_id\", \"BIO\")\n",
    "sentences_test = [s[:300] for s in sents_test]\n",
    "\n",
    "print(\"Preparing and padding training data...\")\n",
    "X1_test, X2_test, y_test = prepare_and_pad(sentences_test, max_len, tag2idx)\n",
    "\n",
    "for i in range(0, 25):\n",
    "    X1_test.append(X1_test[0])\n",
    "    X2_test.append(X2_test[0])\n",
    "    y_test = np.append(y_test,[y_test[0]], axis=0)\n",
    "    \n",
    "y_pred = model.predict([np.array(X1_test), np.array(X2_test).reshape((len(X2_test), max_len, 50))])"
   ]
  },
  {
   "cell_type": "code",
   "execution_count": 52,
   "metadata": {
    "execution": {
     "iopub.execute_input": "2022-10-10T10:46:54.836639Z",
     "iopub.status.busy": "2022-10-10T10:46:54.836342Z",
     "iopub.status.idle": "2022-10-10T10:46:54.997024Z",
     "shell.execute_reply": "2022-10-10T10:46:54.996289Z",
     "shell.execute_reply.started": "2022-10-10T10:46:54.836607Z"
    },
    "scrolled": true
   },
   "outputs": [
    {
     "name": "stdout",
     "output_type": "stream",
     "text": [
      "              precision    recall  f1-score   support\n",
      "\n",
      "           0       0.91      0.89      0.90      1680\n",
      "           1       0.64      0.33      0.44       700\n",
      "           2       0.57      0.67      0.62        30\n",
      "           3       0.00      0.00      0.00         4\n",
      "           4       0.00      0.00      0.00        20\n",
      "           5       0.00      0.00      0.00        29\n",
      "           6       0.92      0.88      0.90      1336\n",
      "           7       0.56      0.39      0.46        23\n",
      "           8       0.47      0.24      0.32       488\n",
      "           9       0.00      0.00      0.00         4\n",
      "          10       0.96      0.84      0.90       194\n",
      "          11       0.26      0.14      0.18        42\n",
      "          12       0.81      0.84      0.82       257\n",
      "          13       0.83      0.28      0.42        18\n",
      "          15       0.99      1.00      0.99     91149\n",
      "          16       0.58      0.58      0.58        26\n",
      "\n",
      "    accuracy                           0.98     96000\n",
      "   macro avg       0.53      0.44      0.47     96000\n",
      "weighted avg       0.98      0.98      0.98     96000\n",
      "\n"
     ]
    },
    {
     "name": "stderr",
     "output_type": "stream",
     "text": [
      "/opt/conda/lib/python3.7/site-packages/sklearn/metrics/_classification.py:1221: UndefinedMetricWarning: Precision and F-score are ill-defined and being set to 0.0 in labels with no predicted samples. Use `zero_division` parameter to control this behavior.\n",
      "  _warn_prf(average, modifier, msg_start, len(result))\n"
     ]
    }
   ],
   "source": [
    "p = np.argmax(y_pred, axis=-1)\n",
    "\n",
    "y_orig = []\n",
    "for sent in y_test:\n",
    "    for tag in sent:\n",
    "        y_orig.append(tag)\n",
    "y_preds = []\n",
    "for sent in p:\n",
    "    for tag in sent:\n",
    "        y_preds.append(tag)\n",
    "        \n",
    "report = classification_report(y_orig, y_preds)\n",
    "print(report) "
   ]
  },
  {
   "cell_type": "code",
   "execution_count": 53,
   "metadata": {
    "execution": {
     "iopub.execute_input": "2022-10-10T10:46:59.133728Z",
     "iopub.status.busy": "2022-10-10T10:46:59.133335Z",
     "iopub.status.idle": "2022-10-10T10:46:59.154105Z",
     "shell.execute_reply": "2022-10-10T10:46:59.153416Z",
     "shell.execute_reply.started": "2022-10-10T10:46:59.133694Z"
    },
    "scrolled": true
   },
   "outputs": [
    {
     "name": "stdout",
     "output_type": "stream",
     "text": [
      "Word            Pred : (True)\n",
      "==============================\n",
      "Looking        :O     (O)\n",
      "for            :O     (O)\n",
      "slow           :B-keyword-pos (B-keyword-pos)\n",
      "burning        :I-keyword-pos (I-keyword-pos)\n",
      ",              :O     (O)\n",
      "violent        :B-keyword-pos (B-keyword-pos)\n",
      "films          :O     (O)\n",
      "Slower         :O     (O)\n",
      "movies         :O     (O)\n",
      "with           :O     (O)\n",
      "tense          :B-keyword-pos (B-keyword-pos)\n",
      "dialogue       :I-keyword-pos (I-keyword-pos)\n",
      ",              :O     (O)\n",
      "either         :O     (O)\n",
      "very           :O     (O)\n",
      "close          :O     (O)\n",
      "up             :O     (O)\n",
      "or             :O     (O)\n",
      "super          :O     (O)\n",
      "wide           :O     (O)\n",
      "shots          :O     (O)\n",
      "all            :O     (O)\n",
      "culminating    :O     (O)\n",
      "with           :O     (O)\n",
      "some           :O     (O)\n",
      "brutal         :O     (B-keyword-pos)\n",
      "violence       :O     (I-keyword-pos)\n",
      ".              :O     (O)\n",
      "Movies         :O     (O)\n",
      "like           :O     (O)\n",
      "this           :O     (O)\n",
      "include        :O     (O)\n",
      ":              :O     (O)\n",
      "NEW_LINE       :O     (O)\n",
      "NEW_LINE       :O     (O)\n",
      "The            :B-movie-pos (B-movie-pos)\n",
      "Rover          :I-movie-pos (I-movie-pos)\n",
      "NEW_LINE       :O     (O)\n",
      "NEW_LINE       :O     (O)\n",
      "Outrage        :B-movie-pos (B-movie-pos)\n",
      "NEW_LINE       :O     (O)\n",
      "NEW_LINE       :O     (O)\n",
      "Beyond         :B-movie-pos (B-movie-pos)\n",
      "Outrage        :I-movie-pos (I-movie-pos)\n",
      "NEW_LINE       :O     (O)\n",
      "NEW_LINE       :O     (O)\n",
      "No             :B-movie-pos (B-movie-pos)\n",
      "Country        :I-movie-pos (I-movie-pos)\n",
      "for            :I-movie-pos (I-movie-pos)\n",
      "Old            :I-movie-pos (I-movie-pos)\n",
      "Men            :I-movie-pos (I-movie-pos)\n",
      "NEW_LINE       :O     (O)\n",
      "NEW_LINE       :O     (O)\n",
      "The            :B-movie-pos (B-movie-pos)\n",
      "Man            :I-movie-pos (I-movie-pos)\n",
      "from           :I-movie-pos (I-movie-pos)\n",
      "Nowhere        :I-movie-pos (I-movie-pos)\n",
      "NEW_LINE       :O     (O)\n",
      "NEW_LINE       :O     (O)\n",
      "Blue           :B-movie-pos (B-movie-pos)\n",
      "Ruin           :I-movie-pos (I-movie-pos)\n",
      "NEW_LINE       :O     (O)\n",
      "NEW_LINE       :O     (O)\n",
      "Any            :O     (O)\n",
      "help           :O     (O)\n",
      "?              :O     (O)\n",
      "Sorry          :O     (O)\n",
      "in             :O     (O)\n",
      "advance        :O     (O)\n",
      "if             :O     (O)\n",
      "the            :O     (O)\n",
      "request        :O     (O)\n",
      "seems          :O     (O)\n",
      "specific       :O     (O)\n",
      ",              :O     (O)\n",
      "these          :O     (O)\n",
      "type           :O     (O)\n",
      "of             :O     (O)\n",
      "movies         :O     (O)\n",
      "just           :O     (O)\n",
      "work           :O     (O)\n",
      "for            :O     (O)\n",
      "me             :O     (O)\n",
      ",              :O     (O)\n",
      "ha             :O     (O)\n",
      ".              :O     (O)\n",
      "NEW_LINE       :O     (O)\n",
      "NEW_LINE       :O     (O)\n",
      "EDIT           :O     (O)\n",
      ":              :O     (O)\n",
      "Thanks         :O     (O)\n",
      "for            :O     (O)\n",
      "all            :O     (O)\n",
      "the            :O     (O)\n",
      "suggestions    :O     (O)\n",
      "!              :O     (O)\n"
     ]
    }
   ],
   "source": [
    "i = 5\n",
    "#p = np.argmax(p, axis=-1)\n",
    "print(\"{:15} {:5}: ({})\".format(\"Word\", \"Pred\", \"True\"))\n",
    "print(\"=\"*30)\n",
    "for w, true, pred in zip(X1_test[i], y_test[i], p[i]):\n",
    "    if w != \"__PAD__\":\n",
    "        print(\"{:15}:{:5} ({})\".format(w, tags[pred], tags[true]))"
   ]
  },
  {
   "cell_type": "code",
   "execution_count": 54,
   "metadata": {
    "execution": {
     "iopub.execute_input": "2022-10-10T10:47:08.204612Z",
     "iopub.status.busy": "2022-10-10T10:47:08.204349Z",
     "iopub.status.idle": "2022-10-10T10:47:08.253982Z",
     "shell.execute_reply": "2022-10-10T10:47:08.253285Z",
     "shell.execute_reply.started": "2022-10-10T10:47:08.204581Z"
    }
   },
   "outputs": [],
   "source": [
    "from difflib import SequenceMatcher\n",
    "\n",
    "def create_alt_movie_dict(movies_matched):\n",
    "    alt_names = dict()\n",
    "    for index, row in movies_matched.iterrows():\n",
    "        if row[\"original_title\"] not in alt_names.keys():\n",
    "            alt_names[row[\"original_title\"]] = list()\n",
    "        alt_names[row[\"original_title\"]].append(row[\"alternative\"])\n",
    "    return alt_names\n",
    "\n",
    "# Turn the predictions from numerical to their class names\n",
    "\n",
    "predictions = []\n",
    "for sent in p:\n",
    "    sent_categories = []\n",
    "    for num in sent:\n",
    "        sent_categories.append(idx2tag[num])\n",
    "    predictions.append(sent_categories)"
   ]
  },
  {
   "cell_type": "code",
   "execution_count": 56,
   "metadata": {
    "execution": {
     "iopub.execute_input": "2022-10-10T10:47:12.054978Z",
     "iopub.status.busy": "2022-10-10T10:47:12.054690Z",
     "iopub.status.idle": "2022-10-10T10:47:12.249370Z",
     "shell.execute_reply": "2022-10-10T10:47:12.248601Z",
     "shell.execute_reply.started": "2022-10-10T10:47:12.054929Z"
    }
   },
   "outputs": [],
   "source": [
    "model_name = 'elmo_features'\n",
    "model_json = model.to_json()\n",
    "with open(model_name + \".json\", \"w\") as json_file:\n",
    "    json_file.write(model_json)\n",
    "model.save_weights(model_name + \".h5\")\n",
    "\n",
    "dict_save = open(\"t2idx_efeats.json\", \"w\")\n",
    "json.dump(tag2idx, dict_save)\n",
    "dict_save.close()\n",
    "\n",
    "dict_save = open(\"idx2t_efeats.json\", \"w\")\n",
    "json.dump(idx2tag, dict_save)\n",
    "dict_save.close()"
   ]
  },
  {
   "cell_type": "code",
   "execution_count": 59,
   "metadata": {
    "execution": {
     "iopub.execute_input": "2022-10-10T10:47:44.638527Z",
     "iopub.status.busy": "2022-10-10T10:47:44.638264Z",
     "iopub.status.idle": "2022-10-10T10:47:44.749647Z",
     "shell.execute_reply": "2022-10-10T10:47:44.748958Z",
     "shell.execute_reply.started": "2022-10-10T10:47:44.638497Z"
    }
   },
   "outputs": [],
   "source": [
    "all_outputs = dict()   # Stores all outputs from the test dataset per entity\n",
    "all_outputs_per_sentence = dict()  # Stores separate dictionaries per entity for every sentence in the dataset\n",
    "\n",
    "for i in range(0, len(predictions)): # Sentences iteration\n",
    "    tmp_dict = dict()\n",
    "    for j in range(0, len(predictions[i])-2): # Word iteration\n",
    "        if predictions[i][j] == 'B-movie-pos':\n",
    "            if not 'positive_movies' in all_outputs.keys():\n",
    "                all_outputs['positive_movies'] = []\n",
    "            if not 'positive_movies' in tmp_dict.keys():\n",
    "                tmp_dict['positive_movies'] = []\n",
    "            tmp_entity = X1_test[i][j]\n",
    "            k = j+1\n",
    "            while(predictions[i][k] == 'I-movie-pos' and k < max_len-1):\n",
    "                tmp_entity += ' ' + X1_test[i][k]\n",
    "                k +=1 \n",
    "            all_outputs['positive_movies'].append(tmp_entity)\n",
    "            if tmp_entity not in tmp_dict['positive_movies']:\n",
    "                tmp_dict['positive_movies'].append(tmp_entity)\n",
    "        \n",
    "        if predictions[i][j] == 'B-movie-neg':\n",
    "            if not 'negative_movies' in all_outputs.keys():\n",
    "                all_outputs['negative_movies'] = []\n",
    "            if not 'negative_movies' in tmp_dict.keys():\n",
    "                tmp_dict['negative_movies'] = []\n",
    "            tmp_entity = X1_test[i][j]\n",
    "            k = j+1\n",
    "            while(predictions[i][k] == 'I-movie-neg'):\n",
    "                tmp_entity += ' ' + X1_test[i][k]\n",
    "                k +=1 \n",
    "            all_outputs['negative_movies'].append(tmp_entity)\n",
    "            if tmp_entity not in tmp_dict['negative_movies']:\n",
    "                tmp_dict['negative_movies'].append(tmp_entity)\n",
    "            \n",
    "        if predictions[i][j] == 'B-keyword-pos':\n",
    "            if not 'positive_keywords' in all_outputs.keys():\n",
    "                all_outputs['positive_keywords'] = []\n",
    "            if not 'positive_keywords' in tmp_dict.keys():\n",
    "                tmp_dict['positive_keywords'] = []\n",
    "            tmp_entity = X1_test[i][j]\n",
    "            k = j+1\n",
    "            while(predictions[i][k] == 'I-keyword-pos'):\n",
    "                tmp_entity += ' ' + X1_test[i][k]\n",
    "                k +=1 \n",
    "            all_outputs['positive_keywords'].append(tmp_entity)\n",
    "            if tmp_entity not in tmp_dict['positive_keywords']:\n",
    "                tmp_dict['positive_keywords'].append(tmp_entity)\n",
    "            \n",
    "        if predictions[i][j] == 'B-keyword-neg':\n",
    "            if not 'negative_keywords' in all_outputs.keys():\n",
    "                all_outputs['negative_keywords'] = []\n",
    "            if not 'negative_keywords' in tmp_dict.keys():\n",
    "                tmp_dict['negative_keywords'] = []\n",
    "            tmp_entity = X1_test[i][j]\n",
    "            k = j+1\n",
    "            while(predictions[i][k] == 'I-keyword-neg'):\n",
    "                tmp_entity += ' ' + X1_test[i][k]\n",
    "                k +=1 \n",
    "            all_outputs['negative_keywords'].append(tmp_entity)\n",
    "            if tmp_entity not in tmp_dict['negative_keywords']:\n",
    "                tmp_dict['negative_keywords'].append(tmp_entity)\n",
    "            \n",
    "        if predictions[i][j] == 'B-actor-pos':\n",
    "            if not 'positive_actors' in all_outputs.keys():\n",
    "                all_outputs['positive_actors'] = []\n",
    "            if not 'positive_actors' in tmp_dict.keys():\n",
    "                tmp_dict['positive_actors'] = []\n",
    "            tmp_entity = X1_test[i][j]\n",
    "            k = j+1\n",
    "            while(predictions[i][k] == 'I-actor-pos'):\n",
    "                tmp_entity += ' ' + X1_test[i][k]\n",
    "                k +=1 \n",
    "            all_outputs['positive_actors'].append(tmp_entity)\n",
    "            if tmp_entity not in tmp_dict['positive_actors']:\n",
    "                tmp_dict['positive_actors'].append(tmp_entity)\n",
    "            \n",
    "        if predictions[i][j] == 'B-actor-neg':\n",
    "            if not 'negative_actors' in all_outputs.keys():\n",
    "                all_outputs['negative_actors'] = []\n",
    "            if not 'negative_actors' in tmp_dict.keys():\n",
    "                tmp_dict['negative_actors'] = []\n",
    "            tmp_entity = X1_test[i][j]\n",
    "            k = j+1\n",
    "            while(predictions[i][k] == 'I-actor-neg'):\n",
    "                tmp_entity += ' ' + X1_test[i][k]\n",
    "                k +=1 \n",
    "            all_outputs['negative_actors'].append(tmp_entity)\n",
    "            if tmp_entity not in tmp_dict['negative_actors']:\n",
    "                tmp_dict['negative_actors'].append(tmp_entity)\n",
    "            \n",
    "        if predictions[i][j] == 'B-gen-pos':\n",
    "            if not 'positive_genres' in all_outputs.keys():\n",
    "                all_outputs['positive_genres'] = []\n",
    "            if not 'positive_genres' in tmp_dict.keys():\n",
    "                tmp_dict['positive_genres'] = []\n",
    "            tmp_entity = X1_test[i][j]\n",
    "            k = j+1\n",
    "            while(predictions[i][k] == 'I-gen-pos'):\n",
    "                tmp_entity += ' ' + X1_test[i][k]\n",
    "                k +=1 \n",
    "            all_outputs['positive_genres'].append(tmp_entity)\n",
    "            if tmp_entity not in tmp_dict['positive_genres']:\n",
    "                tmp_dict['positive_genres'].append(tmp_entity)\n",
    "            \n",
    "        if predictions[i][j] == 'B-gen-neg':\n",
    "            if not 'negative_genres' in all_outputs.keys():\n",
    "                all_outputs['negative_genres'] = []\n",
    "            if not 'negative_genres' in tmp_dict.keys():\n",
    "                tmp_dict['negative_genres'] = []\n",
    "            tmp_entity = X1_test[i][j]\n",
    "            k = j+1\n",
    "            while(predictions[i][k] == 'I-gen-neg'):\n",
    "                tmp_entity += ' ' + X1_test[i][k]\n",
    "                k +=1 \n",
    "            all_outputs['negative_genres'].append(tmp_entity)\n",
    "            if tmp_entity not in tmp_dict['negative_genres']:\n",
    "                tmp_dict['negative_genres'].append(tmp_entity)\n",
    "    \n",
    "    #print(sentences_test[i][0][0])\n",
    "    #print(tmp_dict)\n",
    "    if i < len(sentences_test):\n",
    "        all_outputs_per_sentence[sentences_test[i][0][0]] = tmp_dict\n",
    "    #print(tmp_movie)"
   ]
  },
  {
   "cell_type": "code",
   "execution_count": 60,
   "metadata": {
    "execution": {
     "iopub.execute_input": "2022-10-10T10:47:52.719714Z",
     "iopub.status.busy": "2022-10-10T10:47:52.719444Z",
     "iopub.status.idle": "2022-10-10T10:47:52.729744Z",
     "shell.execute_reply": "2022-10-10T10:47:52.728916Z",
     "shell.execute_reply.started": "2022-10-10T10:47:52.719684Z"
    }
   },
   "outputs": [],
   "source": [
    "with open(\"elmo_feats.json\", \"w\") as outfile:\n",
    "    json.dump(all_outputs_per_sentence, outfile)"
   ]
  },
  {
   "cell_type": "code",
   "execution_count": 61,
   "metadata": {
    "execution": {
     "iopub.execute_input": "2022-10-10T10:47:57.998719Z",
     "iopub.status.busy": "2022-10-10T10:47:57.998142Z",
     "iopub.status.idle": "2022-10-10T10:47:58.004850Z",
     "shell.execute_reply": "2022-10-10T10:47:58.003912Z",
     "shell.execute_reply.started": "2022-10-10T10:47:57.998681Z"
    }
   },
   "outputs": [
    {
     "data": {
      "text/plain": [
       "{'positive_keywords': ['boring', 'artsy', 'goofy', 'anime'],\n",
       " 'positive_movies': ['Antichrist',\n",
       "  'The Lobster',\n",
       "  'Swiss Army Man',\n",
       "  'Shaun of the Dead',\n",
       "  'Tucker',\n",
       "  'Dale VS Evil',\n",
       "  'The Pianist',\n",
       "  'The Green Room',\n",
       "  'Gurren Lagann',\n",
       "  'Parasyte'],\n",
       " 'positive_genres': ['horror', 'war', 'action'],\n",
       " 'positive_actors': ['Hayao Miyazaki']}"
      ]
     },
     "execution_count": 61,
     "metadata": {},
     "output_type": "execute_result"
    }
   ],
   "source": [
    "all_outputs_per_sentence['5ixah2']"
   ]
  }
 ],
 "metadata": {
  "kernelspec": {
   "display_name": "Python 3",
   "language": "python",
   "name": "python3"
  },
  "language_info": {
   "codemirror_mode": {
    "name": "ipython",
    "version": 3
   },
   "file_extension": ".py",
   "mimetype": "text/x-python",
   "name": "python",
   "nbconvert_exporter": "python",
   "pygments_lexer": "ipython3",
   "version": "3.8.3"
  }
 },
 "nbformat": 4,
 "nbformat_minor": 4
}
