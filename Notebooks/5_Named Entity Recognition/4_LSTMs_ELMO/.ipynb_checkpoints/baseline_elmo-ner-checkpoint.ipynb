{
 "cells": [
  {
   "cell_type": "code",
   "execution_count": 19,
   "metadata": {
    "_cell_guid": "b1076dfc-b9ad-4769-8c92-a6c4dae69d19",
    "_uuid": "8f2839f25d086af736a60e9eeb907d3b93b6e0e5",
    "execution": {
     "iopub.execute_input": "2022-10-09T19:04:59.621056Z",
     "iopub.status.busy": "2022-10-09T19:04:59.620700Z",
     "iopub.status.idle": "2022-10-09T19:04:59.628077Z",
     "shell.execute_reply": "2022-10-09T19:04:59.627307Z",
     "shell.execute_reply.started": "2022-10-09T19:04:59.621020Z"
    }
   },
   "outputs": [],
   "source": [
    "# Imports\n",
    "\n",
    "import pandas as pd\n",
    "import numpy as np\n",
    "import os\n",
    "import matplotlib.pyplot as plt\n",
    "from sklearn.metrics import classification_report\n",
    "from keras.preprocessing.sequence import pad_sequences\n",
    "from tensorflow.keras.utils import to_categorical\n",
    "from sklearn.model_selection import train_test_split\n",
    "\n",
    "import tensorflow as tf\n",
    "import tensorflow.compat.v1 as tf\n",
    "import tensorflow_hub as hub\n",
    "#from keras import backend as K\n",
    "from tensorflow.compat.v1.keras import backend as K\n",
    "from tensorflow.keras.utils import plot_model\n",
    "\n",
    "from keras.models import Model, Input\n",
    "from keras.layers.merge import add\n",
    "from keras.layers import Concatenate, Dropout, LSTM, TimeDistributed, Dense, BatchNormalization, Bidirectional, Lambda, SpatialDropout1D\n",
    "\n",
    "import pickle\n",
    "import h5py"
   ]
  },
  {
   "cell_type": "code",
   "execution_count": 20,
   "metadata": {
    "execution": {
     "iopub.execute_input": "2022-10-09T19:04:59.636307Z",
     "iopub.status.busy": "2022-10-09T19:04:59.635875Z",
     "iopub.status.idle": "2022-10-09T19:04:59.642268Z",
     "shell.execute_reply": "2022-10-09T19:04:59.641555Z",
     "shell.execute_reply.started": "2022-10-09T19:04:59.636270Z"
    }
   },
   "outputs": [],
   "source": [
    "def read_data():\n",
    "    #os.chdir('D:/TU_Graz/Thesis/Datasets/Reddit_features')\n",
    "    train = pd.read_csv(\"../input/bio-tagged/train_final_all.csv\") #train = pd.read_csv(\"train_final_all.csv\")\n",
    "    test = pd.read_csv(\"../input/bio-tagged/test_final_all.csv\") #test = pd.read_csv(\"test_final_all.csv\")\n",
    "    data = train.append(test)\n",
    "    return train, test, data\n",
    "\n",
    "def create_lists(data_df, word_category, class_category):\n",
    "    words = list(set(data_df[word_category].values))\n",
    "    words.append(\"ENDPAD\")\n",
    "    n_words = len(words)\n",
    "    tags = list(set(data_df[class_category].values))\n",
    "    n_tags = len(tags)\n",
    "    return words, n_words, tags, n_tags"
   ]
  },
  {
   "cell_type": "code",
   "execution_count": 21,
   "metadata": {
    "execution": {
     "iopub.execute_input": "2022-10-09T19:04:59.652954Z",
     "iopub.status.busy": "2022-10-09T19:04:59.652739Z",
     "iopub.status.idle": "2022-10-09T19:04:59.660302Z",
     "shell.execute_reply": "2022-10-09T19:04:59.658281Z",
     "shell.execute_reply.started": "2022-10-09T19:04:59.652930Z"
    }
   },
   "outputs": [],
   "source": [
    "def group_sentences(data, sent_identificator, category):\n",
    "    all_sents = []\n",
    "    sent_ids = data[sent_identificator].unique()\n",
    "    for curr_id in sent_ids:\n",
    "        tmp_df = data[data[sent_identificator] == curr_id]\n",
    "        tmp_df = pd.concat([tmp_df['Sent_id'], tmp_df['Token'], tmp_df[\"Token_index\"], tmp_df.iloc[:,4:44], tmp_df.iloc[:,137:147], tmp_df[category]], axis = 1) \n",
    "        records = tmp_df.to_records(index=False)\n",
    "        all_sents.append(records)\n",
    "        \n",
    "    return all_sents\n",
    "\n",
    "def remove_sents_over_threshold(sents, threshold):\n",
    "    sentences = list()\n",
    "    for s in sents:\n",
    "        if len(s) < threshold:\n",
    "            sentences.append(s)\n",
    "    return sentences"
   ]
  },
  {
   "cell_type": "code",
   "execution_count": 22,
   "metadata": {
    "execution": {
     "iopub.execute_input": "2022-10-09T19:04:59.727462Z",
     "iopub.status.busy": "2022-10-09T19:04:59.727261Z",
     "iopub.status.idle": "2022-10-09T19:04:59.734966Z",
     "shell.execute_reply": "2022-10-09T19:04:59.734294Z",
     "shell.execute_reply.started": "2022-10-09T19:04:59.727438Z"
    }
   },
   "outputs": [],
   "source": [
    "def prepare_and_pad(sentences, max_len, tag2idx):\n",
    "    X = [[w[1] for w in s] for s in sentences]\n",
    "    new_X = []\n",
    "    for seq in X:\n",
    "        new_seq = []\n",
    "        for i in range(max_len):\n",
    "            try:\n",
    "                new_seq.append(seq[i])\n",
    "            except:\n",
    "                new_seq.append(\"__PAD__\")\n",
    "        new_X.append(new_seq)\n",
    "    X = new_X\n",
    "        \n",
    "    y = [[tag2idx[w[len(w)-1]] for w in s] for s in sentences]\n",
    "    y = pad_sequences(maxlen=max_len, sequences=y, padding=\"post\", value=tag2idx[\"O\"])\n",
    "    \n",
    "    return X, y"
   ]
  },
  {
   "cell_type": "code",
   "execution_count": 23,
   "metadata": {
    "execution": {
     "iopub.execute_input": "2022-10-09T19:04:59.736971Z",
     "iopub.status.busy": "2022-10-09T19:04:59.736492Z",
     "iopub.status.idle": "2022-10-09T19:04:59.746360Z",
     "shell.execute_reply": "2022-10-09T19:04:59.745502Z",
     "shell.execute_reply.started": "2022-10-09T19:04:59.736936Z"
    }
   },
   "outputs": [],
   "source": [
    "def ElmoEmbedding(x):\n",
    "    return elmo_model(inputs={\"tokens\": tf.squeeze(tf.cast(x, tf.string)),\n",
    "                              \"sequence_len\": tf.constant(batch_size*[max_len])},\n",
    "                      signature=\"tokens\",\n",
    "                      as_dict=True)[\"elmo\"]\n",
    "\n",
    "def build_model(max_len, n_words, n_tags): \n",
    "    elmo_input_layer = Input(shape=(max_len,), dtype=tf.string)\n",
    "    elmo_output_layer = Lambda(ElmoEmbedding, output_shape=(None, 1024))(elmo_input_layer)\n",
    "    \n",
    "    output_layer = SpatialDropout1D(0.1)(elmo_output_layer)\n",
    "    output_layer = Bidirectional(LSTM(units=512, return_sequences=True, recurrent_dropout=0.35))(output_layer)\n",
    "    output_layer = TimeDistributed(Dense(n_tags, activation='softmax'))(output_layer)\n",
    "\n",
    "    model = Model(elmo_input_layer, output_layer)\n",
    "    return model"
   ]
  },
  {
   "cell_type": "code",
   "execution_count": 25,
   "metadata": {
    "execution": {
     "iopub.execute_input": "2022-10-09T19:04:59.763799Z",
     "iopub.status.busy": "2022-10-09T19:04:59.763545Z",
     "iopub.status.idle": "2022-10-09T19:04:59.775979Z",
     "shell.execute_reply": "2022-10-09T19:04:59.775239Z",
     "shell.execute_reply.started": "2022-10-09T19:04:59.763766Z"
    }
   },
   "outputs": [],
   "source": [
    "def plot_learning_curves(curve1, curve2):\n",
    "    plt.figure(figsize=(6,6))\n",
    "    plt.plot(curve1)\n",
    "    plt.plot(curve2)\n",
    "    plt.show()"
   ]
  },
  {
   "cell_type": "code",
   "execution_count": 26,
   "metadata": {
    "execution": {
     "iopub.execute_input": "2022-10-09T19:04:59.777660Z",
     "iopub.status.busy": "2022-10-09T19:04:59.777215Z",
     "iopub.status.idle": "2022-10-09T19:27:53.375763Z",
     "shell.execute_reply": "2022-10-09T19:27:53.375111Z",
     "shell.execute_reply.started": "2022-10-09T19:04:59.777623Z"
    }
   },
   "outputs": [
    {
     "name": "stdout",
     "output_type": "stream",
     "text": [
      "Loading the data...\n",
      "Creating sets of words and tags...\n",
      "Creating sentence list...\n",
      "Creating word and tag maps...\n",
      "Preparing and padding training data...\n",
      "Splitting data...\n",
      "Setting parameters...\n"
     ]
    },
    {
     "name": "stderr",
     "output_type": "stream",
     "text": [
      "2022-10-09 19:05:25.119903: I tensorflow/stream_executor/cuda/cuda_gpu_executor.cc:937] successful NUMA node read from SysFS had negative value (-1), but there must be at least one NUMA node, so returning NUMA node zero\n",
      "2022-10-09 19:05:25.120655: I tensorflow/stream_executor/cuda/cuda_gpu_executor.cc:937] successful NUMA node read from SysFS had negative value (-1), but there must be at least one NUMA node, so returning NUMA node zero\n",
      "2022-10-09 19:05:25.121219: I tensorflow/stream_executor/cuda/cuda_gpu_executor.cc:937] successful NUMA node read from SysFS had negative value (-1), but there must be at least one NUMA node, so returning NUMA node zero\n",
      "2022-10-09 19:05:25.121809: I tensorflow/stream_executor/cuda/cuda_gpu_executor.cc:937] successful NUMA node read from SysFS had negative value (-1), but there must be at least one NUMA node, so returning NUMA node zero\n",
      "2022-10-09 19:05:25.122357: I tensorflow/stream_executor/cuda/cuda_gpu_executor.cc:937] successful NUMA node read from SysFS had negative value (-1), but there must be at least one NUMA node, so returning NUMA node zero\n",
      "2022-10-09 19:05:25.122783: I tensorflow/core/common_runtime/gpu/gpu_device.cc:1510] Created device /job:localhost/replica:0/task:0/device:GPU:0 with 15403 MB memory:  -> device: 0, name: Tesla P100-PCIE-16GB, pci bus id: 0000:00:04.0, compute capability: 6.0\n"
     ]
    },
    {
     "name": "stdout",
     "output_type": "stream",
     "text": [
      "Building the model...\n",
      "Model: \"model_1\"\n",
      "_________________________________________________________________\n",
      "Layer (type)                 Output Shape              Param #   \n",
      "=================================================================\n",
      "input_2 (InputLayer)         [(None, 300)]             0         \n",
      "_________________________________________________________________\n",
      "lambda_1 (Lambda)            (32, None, 1024)          0         \n",
      "_________________________________________________________________\n",
      "spatial_dropout1d_1 (Spatial (32, None, 1024)          0         \n",
      "_________________________________________________________________\n",
      "bidirectional_1 (Bidirection (32, None, 1024)          6295552   \n",
      "_________________________________________________________________\n",
      "time_distributed_1 (TimeDist (32, None, 17)            17425     \n",
      "=================================================================\n",
      "Total params: 6,312,977\n",
      "Trainable params: 6,312,977\n",
      "Non-trainable params: 0\n",
      "_________________________________________________________________\n",
      "Train on 928 samples, validate on 224 samples\n",
      "Epoch 1/20\n",
      "928/928 [==============================] - ETA: 0s - loss: 0.2734 - accuracy: 0.9288"
     ]
    },
    {
     "name": "stderr",
     "output_type": "stream",
     "text": [
      "/opt/conda/lib/python3.7/site-packages/keras/engine/training.py:2470: UserWarning: `Model.state_updates` will be removed in a future version. This property should not be used in TensorFlow 2.0, as `updates` are applied automatically.\n",
      "  warnings.warn('`Model.state_updates` will be removed in a future version. '\n"
     ]
    },
    {
     "name": "stdout",
     "output_type": "stream",
     "text": [
      "928/928 [==============================] - 69s 75ms/sample - loss: 0.2734 - accuracy: 0.9288 - val_loss: 0.1058 - val_accuracy: 0.9721\n",
      "Epoch 2/20\n",
      "928/928 [==============================] - 67s 72ms/sample - loss: 0.0894 - accuracy: 0.9754 - val_loss: 0.0807 - val_accuracy: 0.9772\n",
      "Epoch 3/20\n",
      "928/928 [==============================] - 68s 73ms/sample - loss: 0.0724 - accuracy: 0.9796 - val_loss: 0.0708 - val_accuracy: 0.9800\n",
      "Epoch 4/20\n",
      "928/928 [==============================] - 67s 72ms/sample - loss: 0.0632 - accuracy: 0.9817 - val_loss: 0.0654 - val_accuracy: 0.9811\n",
      "Epoch 5/20\n",
      "928/928 [==============================] - 67s 72ms/sample - loss: 0.0566 - accuracy: 0.9833 - val_loss: 0.0608 - val_accuracy: 0.9820\n",
      "Epoch 6/20\n",
      "928/928 [==============================] - 67s 72ms/sample - loss: 0.0516 - accuracy: 0.9846 - val_loss: 0.0579 - val_accuracy: 0.9830\n",
      "Epoch 7/20\n",
      "928/928 [==============================] - 67s 72ms/sample - loss: 0.0472 - accuracy: 0.9856 - val_loss: 0.0565 - val_accuracy: 0.9833\n",
      "Epoch 8/20\n",
      "928/928 [==============================] - 67s 72ms/sample - loss: 0.0432 - accuracy: 0.9868 - val_loss: 0.0556 - val_accuracy: 0.9835\n",
      "Epoch 9/20\n",
      "928/928 [==============================] - 67s 73ms/sample - loss: 0.0406 - accuracy: 0.9876 - val_loss: 0.0544 - val_accuracy: 0.9838\n",
      "Epoch 10/20\n",
      "928/928 [==============================] - 67s 72ms/sample - loss: 0.0367 - accuracy: 0.9887 - val_loss: 0.0557 - val_accuracy: 0.9838\n",
      "Epoch 11/20\n",
      "928/928 [==============================] - 67s 72ms/sample - loss: 0.0346 - accuracy: 0.9892 - val_loss: 0.0571 - val_accuracy: 0.9843\n",
      "Epoch 12/20\n",
      "928/928 [==============================] - 67s 72ms/sample - loss: 0.0322 - accuracy: 0.9899 - val_loss: 0.0558 - val_accuracy: 0.9845\n",
      "Epoch 13/20\n",
      "928/928 [==============================] - 67s 72ms/sample - loss: 0.0295 - accuracy: 0.9907 - val_loss: 0.0550 - val_accuracy: 0.9841\n",
      "Epoch 14/20\n",
      "928/928 [==============================] - 68s 73ms/sample - loss: 0.0262 - accuracy: 0.9918 - val_loss: 0.0556 - val_accuracy: 0.9840\n",
      "Epoch 15/20\n",
      "928/928 [==============================] - 67s 72ms/sample - loss: 0.0240 - accuracy: 0.9925 - val_loss: 0.0580 - val_accuracy: 0.9843\n",
      "Epoch 16/20\n",
      "928/928 [==============================] - 67s 72ms/sample - loss: 0.0217 - accuracy: 0.9931 - val_loss: 0.0578 - val_accuracy: 0.9833\n",
      "Epoch 17/20\n",
      "928/928 [==============================] - 67s 72ms/sample - loss: 0.0208 - accuracy: 0.9933 - val_loss: 0.0586 - val_accuracy: 0.9843\n",
      "Epoch 18/20\n",
      "928/928 [==============================] - 67s 73ms/sample - loss: 0.0187 - accuracy: 0.9941 - val_loss: 0.0579 - val_accuracy: 0.9835\n",
      "Epoch 19/20\n",
      "928/928 [==============================] - 67s 72ms/sample - loss: 0.0167 - accuracy: 0.9949 - val_loss: 0.0585 - val_accuracy: 0.9842\n",
      "Epoch 20/20\n",
      "928/928 [==============================] - 67s 72ms/sample - loss: 0.0146 - accuracy: 0.9955 - val_loss: 0.0607 - val_accuracy: 0.9845\n"
     ]
    },
    {
     "data": {
      "image/png": "[encoded data removed]",
      "text/plain": [
       "<Figure size 432x432 with 1 Axes>"
      ]
     },
     "metadata": {},
     "output_type": "display_data"
    },
    {
     "data": {
      "image/png": "[encoded data removed]",
      "text/plain": [
       "<Figure size 432x432 with 1 Axes>"
      ]
     },
     "metadata": {},
     "output_type": "display_data"
    }
   ],
   "source": [
    "max_len = 300\n",
    "batch_size = 32\n",
    "#batch_size = 2\n",
    "\n",
    "plt.style.use(\"ggplot\")\n",
    "\n",
    "print(\"Loading the data...\")\n",
    "train, test, data = read_data()\n",
    "\n",
    "################################## TRAIN ################################\n",
    "\n",
    "print(\"Creating sets of words and tags...\")\n",
    "words, n_words, tags, n_tags = create_lists(train, \"Token\", \"BIO\")\n",
    "\n",
    "print(\"Creating sentence list...\")\n",
    "sents = group_sentences(train, \"Sent_id\", \"BIO\")\n",
    "sentences = [s for s in sents if len(s) < max_len]\n",
    "\n",
    "print(\"Creating word and tag maps...\")\n",
    "tag2idx = {t: i for i, t in enumerate(tags)}\n",
    "idx2tag = {v: k for k, v in tag2idx.items()}\n",
    "\n",
    "print(\"Preparing and padding training data...\")\n",
    "X, y = prepare_and_pad(sentences, max_len, tag2idx)\n",
    "\n",
    "print(\"Splitting data...\")\n",
    "X_train, X_valid, y_train, y_valid = train_test_split(X1, y, test_size=0.2, random_state=2021)\n",
    "X_train = X_train[:(len(X_train) // batch_size) * batch_size]\n",
    "X_valid = X_valid[:(len(X_valid) // batch_size) * batch_size]\n",
    "y_train = y_train[:(len(y_train) // batch_size) * batch_size]\n",
    "y_valid = y_valid[:(len(y_valid) // batch_size) * batch_size] \n",
    "y_train = y_train.reshape(y_train.shape[0], y_train.shape[1], 1)\n",
    "y_valid = y_valid.reshape(y_valid.shape[0], y_valid.shape[1], 1)\n",
    "   \n",
    "print(\"Setting parameters...\")\n",
    "tf.disable_eager_execution()\n",
    "#tf.compat.v1.disable_eager_execution()\n",
    "elmo_model = hub.Module(\"https://tfhub.dev/google/elmo/3\", trainable=True)\n",
    "sess = tf.Session()\n",
    "#sess = tf.compat.v1.Session()\n",
    "K.set_session(sess)\n",
    "sess.run([tf.global_variables_initializer(), tf.tables_initializer()])\n",
    "\n",
    "print(\"Building the model...\")\n",
    "model = build_model(max_len, n_words, n_tags)\n",
    "model.compile(optimizer=\"adam\", loss=\"sparse_categorical_crossentropy\", metrics=[\"accuracy\"])\n",
    "model.summary()\n",
    "\n",
    "history = model.fit(np.array(X_train), y_train, validation_data=(np.array(X_valid), y_valid), \n",
    "                    batch_size=batch_size, epochs=20, verbose=1)\n",
    "\n",
    "hist = pd.DataFrame(history.history)\n",
    "\n",
    "plot_learning_curves(hist[\"loss\"], hist[\"val_loss\"])\n",
    "plot_learning_curves(hist[\"accuracy\"], hist[\"val_accuracy\"])"
   ]
  },
  {
   "cell_type": "code",
   "execution_count": 27,
   "metadata": {
    "execution": {
     "iopub.execute_input": "2022-10-09T19:27:53.377535Z",
     "iopub.status.busy": "2022-10-09T19:27:53.377121Z",
     "iopub.status.idle": "2022-10-09T19:28:11.189460Z",
     "shell.execute_reply": "2022-10-09T19:28:11.188935Z",
     "shell.execute_reply.started": "2022-10-09T19:27:53.377495Z"
    }
   },
   "outputs": [
    {
     "name": "stdout",
     "output_type": "stream",
     "text": [
      "Creating sentence list...\n",
      "Preparing and padding training data...\n"
     ]
    }
   ],
   "source": [
    "################# TEST ################################\n",
    "\n",
    "print(\"Creating sentence list...\")\n",
    "sents_test = group_sentences(test, \"Sent_id\", \"BIO\")\n",
    "sentences_test = [s[:301] for s in sents_test]\n",
    "\n",
    "print(\"Preparing and padding training data...\")\n",
    "X_test, y_test = prepare_and_pad(sentences_test, max_len, tag2idx)\n",
    "\n",
    "for i in range(0, 25):\n",
    "    X_test.append(X_test[0])\n",
    "    y_test=np.append(y_test,[y_test[0]], axis=0)\n",
    "    \n",
    "y_pred = model.predict(np.array(X_test))"
   ]
  },
  {
   "cell_type": "code",
   "execution_count": 28,
   "metadata": {
    "execution": {
     "iopub.execute_input": "2022-10-09T19:28:11.192125Z",
     "iopub.status.busy": "2022-10-09T19:28:11.191613Z",
     "iopub.status.idle": "2022-10-09T19:28:11.357782Z",
     "shell.execute_reply": "2022-10-09T19:28:11.356946Z",
     "shell.execute_reply.started": "2022-10-09T19:28:11.192087Z"
    }
   },
   "outputs": [
    {
     "name": "stdout",
     "output_type": "stream",
     "text": [
      "              precision    recall  f1-score   support\n",
      "\n",
      "           0       0.40      0.14      0.21        42\n",
      "           1       0.62      0.42      0.50       700\n",
      "           2       0.54      0.58      0.56        26\n",
      "           3       0.97      0.97      0.97       194\n",
      "           4       0.67      0.09      0.15        23\n",
      "           5       0.00      0.00      0.00        20\n",
      "           6       0.00      0.00      0.00         4\n",
      "           7       0.86      0.85      0.86      1336\n",
      "           8       0.60      0.17      0.26        18\n",
      "           9       0.87      0.89      0.88      1681\n",
      "          10       0.00      0.00      0.00         4\n",
      "          12       0.99      1.00      0.99     91147\n",
      "          13       0.52      0.32      0.40       488\n",
      "          14       0.61      0.45      0.52        31\n",
      "          15       0.00      0.00      0.00        29\n",
      "          16       0.81      0.77      0.79       257\n",
      "\n",
      "    accuracy                           0.98     96000\n",
      "   macro avg       0.53      0.41      0.44     96000\n",
      "weighted avg       0.98      0.98      0.98     96000\n",
      "\n"
     ]
    },
    {
     "name": "stderr",
     "output_type": "stream",
     "text": [
      "/opt/conda/lib/python3.7/site-packages/sklearn/metrics/_classification.py:1221: UndefinedMetricWarning: Precision and F-score are ill-defined and being set to 0.0 in labels with no predicted samples. Use `zero_division` parameter to control this behavior.\n",
      "  _warn_prf(average, modifier, msg_start, len(result))\n"
     ]
    }
   ],
   "source": [
    "p = np.argmax(y_pred, axis=-1)\n",
    "\n",
    "y_orig = []\n",
    "for sent in y_test:\n",
    "    for tag in sent:\n",
    "        y_orig.append(tag)\n",
    "y_preds = []\n",
    "for sent in p:\n",
    "    for tag in sent:\n",
    "        y_preds.append(tag)\n",
    "        \n",
    "report = classification_report(y_orig, y_preds)\n",
    "print(report) "
   ]
  },
  {
   "cell_type": "code",
   "execution_count": 29,
   "metadata": {
    "execution": {
     "iopub.execute_input": "2022-10-09T19:28:11.359421Z",
     "iopub.status.busy": "2022-10-09T19:28:11.359092Z",
     "iopub.status.idle": "2022-10-09T19:28:11.379470Z",
     "shell.execute_reply": "2022-10-09T19:28:11.378795Z",
     "shell.execute_reply.started": "2022-10-09T19:28:11.359386Z"
    }
   },
   "outputs": [
    {
     "name": "stdout",
     "output_type": "stream",
     "text": [
      "Word            Pred : (True)\n",
      "==============================\n",
      "Looking        :O     (O)\n",
      "for            :O     (O)\n",
      "slow           :B-keyword-pos (B-keyword-pos)\n",
      "burning        :I-keyword-pos (I-keyword-pos)\n",
      ",              :O     (O)\n",
      "violent        :B-keyword-pos (B-keyword-pos)\n",
      "films          :O     (O)\n",
      "Slower         :O     (O)\n",
      "movies         :O     (O)\n",
      "with           :O     (O)\n",
      "tense          :B-keyword-pos (B-keyword-pos)\n",
      "dialogue       :I-keyword-pos (I-keyword-pos)\n",
      ",              :O     (O)\n",
      "either         :O     (O)\n",
      "very           :O     (O)\n",
      "close          :O     (O)\n",
      "up             :O     (O)\n",
      "or             :O     (O)\n",
      "super          :O     (O)\n",
      "wide           :O     (O)\n",
      "shots          :O     (O)\n",
      "all            :O     (O)\n",
      "culminating    :O     (O)\n",
      "with           :O     (O)\n",
      "some           :O     (O)\n",
      "brutal         :B-keyword-pos (B-keyword-pos)\n",
      "violence       :I-keyword-pos (I-keyword-pos)\n",
      ".              :O     (O)\n",
      "Movies         :O     (O)\n",
      "like           :O     (O)\n",
      "this           :O     (O)\n",
      "include        :O     (O)\n",
      ":              :O     (O)\n",
      "NEW_LINE       :O     (O)\n",
      "NEW_LINE       :O     (O)\n",
      "The            :B-movie-pos (B-movie-pos)\n",
      "Rover          :I-movie-pos (I-movie-pos)\n",
      "NEW_LINE       :O     (O)\n",
      "NEW_LINE       :O     (O)\n",
      "Outrage        :B-movie-pos (B-movie-pos)\n",
      "NEW_LINE       :O     (O)\n",
      "NEW_LINE       :O     (O)\n",
      "Beyond         :B-movie-pos (B-movie-pos)\n",
      "Outrage        :I-movie-pos (I-movie-pos)\n",
      "NEW_LINE       :O     (O)\n",
      "NEW_LINE       :O     (O)\n",
      "No             :B-movie-pos (B-movie-pos)\n",
      "Country        :I-movie-pos (I-movie-pos)\n",
      "for            :I-movie-pos (I-movie-pos)\n",
      "Old            :I-movie-pos (I-movie-pos)\n",
      "Men            :I-movie-pos (I-movie-pos)\n",
      "NEW_LINE       :O     (O)\n",
      "NEW_LINE       :O     (O)\n",
      "The            :B-movie-pos (B-movie-pos)\n",
      "Man            :I-movie-pos (I-movie-pos)\n",
      "from           :I-movie-pos (I-movie-pos)\n",
      "Nowhere        :I-movie-pos (I-movie-pos)\n",
      "NEW_LINE       :O     (O)\n",
      "NEW_LINE       :O     (O)\n",
      "Blue           :B-movie-pos (B-movie-pos)\n",
      "Ruin           :I-movie-pos (I-movie-pos)\n",
      "NEW_LINE       :O     (O)\n",
      "NEW_LINE       :O     (O)\n",
      "Any            :O     (O)\n",
      "help           :O     (O)\n",
      "?              :O     (O)\n",
      "Sorry          :O     (O)\n",
      "in             :O     (O)\n",
      "advance        :O     (O)\n",
      "if             :O     (O)\n",
      "the            :O     (O)\n",
      "request        :O     (O)\n",
      "seems          :O     (O)\n",
      "specific       :O     (O)\n",
      ",              :O     (O)\n",
      "these          :O     (O)\n",
      "type           :O     (O)\n",
      "of             :O     (O)\n",
      "movies         :O     (O)\n",
      "just           :O     (O)\n",
      "work           :O     (O)\n",
      "for            :O     (O)\n",
      "me             :O     (O)\n",
      ",              :O     (O)\n",
      "ha             :O     (O)\n",
      ".              :O     (O)\n",
      "NEW_LINE       :O     (O)\n",
      "NEW_LINE       :O     (O)\n",
      "EDIT           :O     (O)\n",
      ":              :O     (O)\n",
      "Thanks         :O     (O)\n",
      "for            :O     (O)\n",
      "all            :O     (O)\n",
      "the            :O     (O)\n",
      "suggestions    :O     (O)\n",
      "!              :O     (O)\n"
     ]
    }
   ],
   "source": [
    "i = 5\n",
    "#p = np.argmax(p, axis=-1)\n",
    "print(\"{:15} {:5}: ({})\".format(\"Word\", \"Pred\", \"True\"))\n",
    "print(\"=\"*30)\n",
    "for w, true, pred in zip(X_test[i], y_test[i], p[i]):\n",
    "    if w != \"__PAD__\":\n",
    "        print(\"{:15}:{:5} ({})\".format(w, tags[pred], tags[true]))"
   ]
  },
  {
   "cell_type": "code",
   "execution_count": 31,
   "metadata": {
    "execution": {
     "iopub.execute_input": "2022-10-09T19:28:11.388798Z",
     "iopub.status.busy": "2022-10-09T19:28:11.387904Z",
     "iopub.status.idle": "2022-10-09T19:28:11.436937Z",
     "shell.execute_reply": "2022-10-09T19:28:11.436303Z",
     "shell.execute_reply.started": "2022-10-09T19:28:11.388762Z"
    }
   },
   "outputs": [],
   "source": [
    "from difflib import SequenceMatcher\n",
    "\n",
    "def create_alt_movie_dict(movies_matched):\n",
    "    alt_names = dict()\n",
    "    for index, row in movies_matched.iterrows():\n",
    "        if row[\"original_title\"] not in alt_names.keys():\n",
    "            alt_names[row[\"original_title\"]] = list()\n",
    "        alt_names[row[\"original_title\"]].append(row[\"alternative\"])\n",
    "    return alt_names\n",
    "\n",
    "# Turn the predictions from numerical to their class names\n",
    "\n",
    "predictions = []\n",
    "for sent in p:\n",
    "    sent_categories = []\n",
    "    for num in sent:\n",
    "        sent_categories.append(idx2tag[num])\n",
    "    predictions.append(sent_categories)"
   ]
  },
  {
   "cell_type": "code",
   "execution_count": 37,
   "metadata": {
    "execution": {
     "iopub.execute_input": "2022-10-09T19:36:50.475750Z",
     "iopub.status.busy": "2022-10-09T19:36:50.475485Z",
     "iopub.status.idle": "2022-10-09T19:36:50.481005Z",
     "shell.execute_reply": "2022-10-09T19:36:50.480200Z",
     "shell.execute_reply.started": "2022-10-09T19:36:50.475716Z"
    }
   },
   "outputs": [],
   "source": [
    "model_name = 'elmo_best'\n",
    "\n",
    "model_json = model.to_json()\n",
    "with open(model_name + \".json\", \"w\") as json_file:\n",
    "    json_file.write(model_json)\n",
    "model.save_weights(model_name + \".h5\")\n",
    "\n",
    "dict_save = open(\"t2idx.json\", \"w\")\n",
    "json.dump(tag2idx, dict_save)\n",
    "dict_save.close()\n",
    "\n",
    "dict_save = open(\"idx2t.json\", \"w\")\n",
    "json.dump(idx2tag, dict_save)\n",
    "dict_save.close()"
   ]
  },
  {
   "cell_type": "code",
   "execution_count": 32,
   "metadata": {
    "execution": {
     "iopub.execute_input": "2022-10-09T19:28:11.438207Z",
     "iopub.status.busy": "2022-10-09T19:28:11.437987Z",
     "iopub.status.idle": "2022-10-09T19:28:11.550463Z",
     "shell.execute_reply": "2022-10-09T19:28:11.549805Z",
     "shell.execute_reply.started": "2022-10-09T19:28:11.438176Z"
    }
   },
   "outputs": [],
   "source": [
    "all_outputs = dict()   # Stores all outputs from the test dataset per entity\n",
    "all_outputs_per_sentence = dict()  # Stores separate dictionaries per entity for every sentence in the dataset\n",
    "\n",
    "for i in range(0, len(predictions)): # Sentences iteration\n",
    "    tmp_dict = dict()\n",
    "    for j in range(0, len(predictions[i])-2): # Word iteration\n",
    "        if predictions[i][j] == 'B-movie-pos':\n",
    "            if not 'positive_movies' in all_outputs.keys():\n",
    "                all_outputs['positive_movies'] = []\n",
    "            if not 'positive_movies' in tmp_dict.keys():\n",
    "                tmp_dict['positive_movies'] = []\n",
    "            tmp_entity = X1_test[i][j]\n",
    "            k = j+1\n",
    "            while(predictions[i][k] == 'I-movie-pos' and k < max_len-1):\n",
    "                tmp_entity += ' ' + X1_test[i][k]\n",
    "                k +=1 \n",
    "            all_outputs['positive_movies'].append(tmp_entity)\n",
    "            if tmp_entity not in tmp_dict['positive_movies']:\n",
    "                tmp_dict['positive_movies'].append(tmp_entity)\n",
    "        \n",
    "        if predictions[i][j] == 'B-movie-neg':\n",
    "            if not 'negative_movies' in all_outputs.keys():\n",
    "                all_outputs['negative_movies'] = []\n",
    "            if not 'negative_movies' in tmp_dict.keys():\n",
    "                tmp_dict['negative_movies'] = []\n",
    "            tmp_entity = X1_test[i][j]\n",
    "            k = j+1\n",
    "            while(predictions[i][k] == 'I-movie-neg'):\n",
    "                tmp_entity += ' ' + X1_test[i][k]\n",
    "                k +=1 \n",
    "            all_outputs['negative_movies'].append(tmp_entity)\n",
    "            if tmp_entity not in tmp_dict['negative_movies']:\n",
    "                tmp_dict['negative_movies'].append(tmp_entity)\n",
    "            \n",
    "        if predictions[i][j] == 'B-keyword-pos':\n",
    "            if not 'positive_keywords' in all_outputs.keys():\n",
    "                all_outputs['positive_keywords'] = []\n",
    "            if not 'positive_keywords' in tmp_dict.keys():\n",
    "                tmp_dict['positive_keywords'] = []\n",
    "            tmp_entity = X1_test[i][j]\n",
    "            k = j+1\n",
    "            while(predictions[i][k] == 'I-keyword-pos'):\n",
    "                tmp_entity += ' ' + X1_test[i][k]\n",
    "                k +=1 \n",
    "            all_outputs['positive_keywords'].append(tmp_entity)\n",
    "            if tmp_entity not in tmp_dict['positive_keywords']:\n",
    "                tmp_dict['positive_keywords'].append(tmp_entity)\n",
    "            \n",
    "        if predictions[i][j] == 'B-keyword-neg':\n",
    "            if not 'negative_keywords' in all_outputs.keys():\n",
    "                all_outputs['negative_keywords'] = []\n",
    "            if not 'negative_keywords' in tmp_dict.keys():\n",
    "                tmp_dict['negative_keywords'] = []\n",
    "            tmp_entity = X1_test[i][j]\n",
    "            k = j+1\n",
    "            while(predictions[i][k] == 'I-keyword-neg'):\n",
    "                tmp_entity += ' ' + X1_test[i][k]\n",
    "                k +=1 \n",
    "            all_outputs['negative_keywords'].append(tmp_entity)\n",
    "            if tmp_entity not in tmp_dict['negative_keywords']:\n",
    "                tmp_dict['negative_keywords'].append(tmp_entity)\n",
    "            \n",
    "        if predictions[i][j] == 'B-actor-pos':\n",
    "            if not 'positive_actors' in all_outputs.keys():\n",
    "                all_outputs['positive_actors'] = []\n",
    "            if not 'positive_actors' in tmp_dict.keys():\n",
    "                tmp_dict['positive_actors'] = []\n",
    "            tmp_entity = X1_test[i][j]\n",
    "            k = j+1\n",
    "            while(predictions[i][k] == 'I-actor-pos'):\n",
    "                tmp_entity += ' ' + X1_test[i][k]\n",
    "                k +=1 \n",
    "            all_outputs['positive_actors'].append(tmp_entity)\n",
    "            if tmp_entity not in tmp_dict['positive_actors']:\n",
    "                tmp_dict['positive_actors'].append(tmp_entity)\n",
    "            \n",
    "        if predictions[i][j] == 'B-actor-neg':\n",
    "            if not 'negative_actors' in all_outputs.keys():\n",
    "                all_outputs['negative_actors'] = []\n",
    "            if not 'negative_actors' in tmp_dict.keys():\n",
    "                tmp_dict['negative_actors'] = []\n",
    "            tmp_entity = X1_test[i][j]\n",
    "            k = j+1\n",
    "            while(predictions[i][k] == 'I-actor-neg'):\n",
    "                tmp_entity += ' ' + X1_test[i][k]\n",
    "                k +=1 \n",
    "            all_outputs['negative_actors'].append(tmp_entity)\n",
    "            if tmp_entity not in tmp_dict['negative_actors']:\n",
    "                tmp_dict['negative_actors'].append(tmp_entity)\n",
    "            \n",
    "        if predictions[i][j] == 'B-gen-pos':\n",
    "            if not 'positive_genres' in all_outputs.keys():\n",
    "                all_outputs['positive_genres'] = []\n",
    "            if not 'positive_genres' in tmp_dict.keys():\n",
    "                tmp_dict['positive_genres'] = []\n",
    "            tmp_entity = X1_test[i][j]\n",
    "            k = j+1\n",
    "            while(predictions[i][k] == 'I-gen-pos'):\n",
    "                tmp_entity += ' ' + X1_test[i][k]\n",
    "                k +=1 \n",
    "            all_outputs['positive_genres'].append(tmp_entity)\n",
    "            if tmp_entity not in tmp_dict['positive_genres']:\n",
    "                tmp_dict['positive_genres'].append(tmp_entity)\n",
    "            \n",
    "        if predictions[i][j] == 'B-gen-neg':\n",
    "            if not 'negative_genres' in all_outputs.keys():\n",
    "                all_outputs['negative_genres'] = []\n",
    "            if not 'negative_genres' in tmp_dict.keys():\n",
    "                tmp_dict['negative_genres'] = []\n",
    "            tmp_entity = X1_test[i][j]\n",
    "            k = j+1\n",
    "            while(predictions[i][k] == 'I-gen-neg'):\n",
    "                tmp_entity += ' ' + X1_test[i][k]\n",
    "                k +=1 \n",
    "            all_outputs['negative_genres'].append(tmp_entity)\n",
    "            if tmp_entity not in tmp_dict['negative_genres']:\n",
    "                tmp_dict['negative_genres'].append(tmp_entity)\n",
    "    \n",
    "    #print(sentences_test[i][0][0])\n",
    "    #print(tmp_dict)\n",
    "    if i < len(sentences_test):\n",
    "        all_outputs_per_sentence[sentences_test[i][0][0]] = tmp_dict\n",
    "    #print(tmp_movie)"
   ]
  },
  {
   "cell_type": "code",
   "execution_count": 33,
   "metadata": {
    "execution": {
     "iopub.execute_input": "2022-10-09T19:28:11.551801Z",
     "iopub.status.busy": "2022-10-09T19:28:11.551575Z",
     "iopub.status.idle": "2022-10-09T19:28:11.561293Z",
     "shell.execute_reply": "2022-10-09T19:28:11.560618Z",
     "shell.execute_reply.started": "2022-10-09T19:28:11.551768Z"
    }
   },
   "outputs": [],
   "source": [
    "import json    \n",
    "with open(\"elmo_best.json\", \"w\") as outfile:\n",
    "    json.dump(all_outputs_per_sentence, outfile)"
   ]
  },
  {
   "cell_type": "code",
   "execution_count": 34,
   "metadata": {
    "execution": {
     "iopub.execute_input": "2022-10-09T19:28:11.562817Z",
     "iopub.status.busy": "2022-10-09T19:28:11.562499Z",
     "iopub.status.idle": "2022-10-09T19:28:11.568930Z",
     "shell.execute_reply": "2022-10-09T19:28:11.568254Z",
     "shell.execute_reply.started": "2022-10-09T19:28:11.562778Z"
    }
   },
   "outputs": [
    {
     "data": {
      "text/plain": [
       "{'positive_keywords': ['artsy', 'boring', 'goofy', 'anime'],\n",
       " 'positive_movies': ['Antichrist',\n",
       "  'The Lobster',\n",
       "  'Swiss Army Man',\n",
       "  'Shaun of the Dead',\n",
       "  'Tucker',\n",
       "  'Dale VS Evil',\n",
       "  'The Pianist',\n",
       "  'The Green Room',\n",
       "  'Gurren Lagann',\n",
       "  'Hayao',\n",
       "  'Parasyte'],\n",
       " 'positive_genres': ['horror', 'war', 'action']}"
      ]
     },
     "execution_count": 34,
     "metadata": {},
     "output_type": "execute_result"
    }
   ],
   "source": [
    "all_outputs_per_sentence['5ixah2']"
   ]
  }
 ],
 "metadata": {
  "kernelspec": {
   "display_name": "Python 3",
   "language": "python",
   "name": "python3"
  },
  "language_info": {
   "codemirror_mode": {
    "name": "ipython",
    "version": 3
   },
   "file_extension": ".py",
   "mimetype": "text/x-python",
   "name": "python",
   "nbconvert_exporter": "python",
   "pygments_lexer": "ipython3",
   "version": "3.8.3"
  }
 },
 "nbformat": 4,
 "nbformat_minor": 4
}
